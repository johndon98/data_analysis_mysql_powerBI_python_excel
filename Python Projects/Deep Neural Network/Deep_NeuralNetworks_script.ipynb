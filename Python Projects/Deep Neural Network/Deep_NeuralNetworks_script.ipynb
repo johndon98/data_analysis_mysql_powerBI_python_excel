{
 "cells": [
  {
   "cell_type": "markdown",
   "id": "5ffbf090",
   "metadata": {},
   "source": [
    "## Deep Learning\n",
    "\n",
    "---\n",
    "\n",
    "<br>\n",
    "\n",
    "**This project was part of a lecture series on Machine Learning methods for Economic Research during my\n",
    "master studies and was implemented with the help of my teachers.**\n",
    "\n",
    "<br>\n",
    "\n",
    "Contents:\n",
    "\n",
    "* A simple image classification neural network.\n",
    "* A similar neural network built from scratch without the use of tensorflow/keras.\n",
    "* Two text analysis examples from keras.\n",
    "\n",
    "\n",
    "---"
   ]
  },
  {
   "cell_type": "code",
   "execution_count": 62,
   "id": "5dcc319b",
   "metadata": {},
   "outputs": [
    {
     "name": "stdout",
     "output_type": "stream",
     "text": [
      "1.14.0\n",
      "2.2.4-tf\n"
     ]
    }
   ],
   "source": [
    "import numpy as np\n",
    "import tensorflow as tf\n",
    "from tensorflow import keras\n",
    "import matplotlib.pyplot as plt\n",
    "\n",
    "print(tf.__version__)\n",
    "print(keras.__version__)\n",
    "\n",
    "# I think the warning arises due to incompatibility of current numpy and tensorflow\n",
    "# possible fix: check numpy version and install a numpy version suitable for current tensorflow"
   ]
  },
  {
   "cell_type": "markdown",
   "id": "92777dc0",
   "metadata": {},
   "source": [
    "## Character recognition\n",
    "\n",
    "- A 2012 paper by Krizhevsky, Sutskever, and Hinton boosted the popularity of deep learning by showing that it performed much better than any state-of-the-art model on a computer vision classification task.\n",
    "- They used a neural network with five convolutional layers and 60 million parameters, trained on GPUs\n",
    "- Today's example will be an image classification as well, but to keep it simple our task will be to recognize checkmarks and crosses, digitized in a small boolean matrix, with errors. \n",
    "- This can be thought of as a minimal version of OCR. Someone may have scanned a form where different boxes could be ticked and the low resolution result contains some errors, so we can't simply compare the matrix with an ideal version of the symbol. "
   ]
  },
  {
   "cell_type": "code",
   "execution_count": 63,
   "id": "bd9c9373",
   "metadata": {},
   "outputs": [
    {
     "data": {
      "text/plain": [
       "<matplotlib.image.AxesImage at 0x23608dd68c8>"
      ]
     },
     "execution_count": 63,
     "metadata": {},
     "output_type": "execute_result"
    },
    {
     "data": {
      "image/png": "[encoded data removed]",
      "text/plain": [
       "<Figure size 432x288 with 1 Axes>"
      ]
     },
     "metadata": {
      "needs_background": "light"
     },
     "output_type": "display_data"
    }
   ],
   "source": [
    "# Ideal versions of the two symbols\n",
    "\n",
    "cross = np.array([\n",
    "    [1,0,0,0,1],\n",
    "    [0,1,0,1,0],\n",
    "    [0,0,1,0,0],\n",
    "    [0,1,0,1,0],\n",
    "    [1,0,0,0,1]], dtype='bool')\n",
    "\n",
    "checkmark = np.array([\n",
    "    [0,0,0,0,1],\n",
    "    [0,0,0,1,0],\n",
    "    [0,0,0,1,0],\n",
    "    [1,0,1,0,0],\n",
    "    [0,1,0,0,0]], dtype='bool')\n",
    "\n",
    "plt.imshow(cross)"
   ]
  },
  {
   "cell_type": "code",
   "execution_count": 64,
   "id": "8802704a",
   "metadata": {},
   "outputs": [
    {
     "data": {
      "text/plain": [
       "<matplotlib.image.AxesImage at 0x2361b121888>"
      ]
     },
     "execution_count": 64,
     "metadata": {},
     "output_type": "execute_result"
    },
    {
     "data": {
      "image/png": "[encoded data removed]",
      "text/plain": [
       "<Figure size 432x288 with 1 Axes>"
      ]
     },
     "metadata": {
      "needs_background": "light"
     },
     "output_type": "display_data"
    }
   ],
   "source": [
    "plt.imshow(checkmark)"
   ]
  },
  {
   "cell_type": "code",
   "execution_count": 65,
   "id": "28799f54",
   "metadata": {},
   "outputs": [],
   "source": [
    "# take symbol, create version with errors\n",
    "# create random error matrix, then flip pixels with xor\n",
    "np.random.seed(0)\n",
    "\n",
    "def modify(type):\n",
    "    p = 3/25\n",
    "    r = np.random.choice(a=[False, True], size=(5, 5), p=[1-p, p])\n",
    "    # return np.bitwise_xor(np.zeros((5,5), dtype=\"bool\"), r) # To see what happens if there is no information in sample\n",
    "    if type==1:\n",
    "        return np.bitwise_xor(checkmark, r)\n",
    "    elif type==0:\n",
    "        return np.bitwise_xor(cross, r)\n",
    "    else:\n",
    "        return np.bitwise_xor(np.zeros((5,5), dtype=\"bool\"), r)"
   ]
  },
  {
   "cell_type": "code",
   "execution_count": 66,
   "id": "a2f9aa1e",
   "metadata": {},
   "outputs": [
    {
     "data": {
      "text/plain": [
       "<matplotlib.image.AxesImage at 0x2361b198348>"
      ]
     },
     "execution_count": 66,
     "metadata": {},
     "output_type": "execute_result"
    },
    {
     "data": {
      "image/png": "[encoded data removed]",
      "text/plain": [
       "<Figure size 432x288 with 1 Axes>"
      ]
     },
     "metadata": {
      "needs_background": "light"
     },
     "output_type": "display_data"
    }
   ],
   "source": [
    "# we can see how our checkmark image is modified with errors\n",
    "plt.imshow(modify(1))"
   ]
  },
  {
   "cell_type": "code",
   "execution_count": 67,
   "id": "977c25fc",
   "metadata": {},
   "outputs": [
    {
     "data": {
      "text/plain": [
       "<matplotlib.image.AxesImage at 0x2361b1fec08>"
      ]
     },
     "execution_count": 67,
     "metadata": {},
     "output_type": "execute_result"
    },
    {
     "data": {
      "image/png": "[encoded data removed]",
      "text/plain": [
       "<Figure size 432x288 with 1 Axes>"
      ]
     },
     "metadata": {
      "needs_background": "light"
     },
     "output_type": "display_data"
    }
   ],
   "source": [
    "# we can see how our cross image is modified with errors\n",
    "plt.imshow(modify(0))"
   ]
  },
  {
   "cell_type": "code",
   "execution_count": 68,
   "id": "82837b76",
   "metadata": {},
   "outputs": [
    {
     "data": {
      "text/plain": [
       "<matplotlib.image.AxesImage at 0x2361b26db08>"
      ]
     },
     "execution_count": 68,
     "metadata": {},
     "output_type": "execute_result"
    },
    {
     "data": {
      "image/png": "[encoded data removed]",
      "text/plain": [
       "<Figure size 432x288 with 1 Axes>"
      ]
     },
     "metadata": {
      "needs_background": "light"
     },
     "output_type": "display_data"
    }
   ],
   "source": [
    "# we can see how our image is modified with errors, when no information is provided in our sample, basically not checks or cross\n",
    "plt.imshow(modify(1.5))"
   ]
  },
  {
   "cell_type": "code",
   "execution_count": 69,
   "id": "29c9a4d4",
   "metadata": {},
   "outputs": [],
   "source": [
    "# create training and test data (with checkmark, x or empty)\n",
    "y_train = np.random.randint(-1, 2, size=100)\n",
    "x_train = [modify(y).reshape((25,1)) for y in y_train] # list of 100 images following y_train\n",
    "\n",
    "y_test = np.random.randint(-1, 2, size=100)\n",
    "x_test = [modify(y).reshape((25,1)) for y in y_test] "
   ]
  },
  {
   "cell_type": "code",
   "execution_count": 70,
   "id": "e13e7a74",
   "metadata": {},
   "outputs": [
    {
     "data": {
      "text/plain": [
       "array([-1,  1,  1, -1,  1,  1, -1,  1,  0,  1, -1, -1, -1,  0,  1, -1, -1,\n",
       "       -1,  1,  1,  1,  1,  1,  1, -1,  0, -1,  0, -1, -1,  0, -1,  0,  0,\n",
       "        0, -1,  1, -1, -1,  0,  0,  1,  0,  1, -1,  0, -1,  1,  1,  1, -1,\n",
       "        1,  1, -1, -1,  1,  0,  1,  0, -1, -1, -1, -1, -1, -1, -1,  0,  1,\n",
       "        1, -1, -1, -1,  1,  0,  0,  0,  1,  0, -1, -1,  1,  0,  1,  1,  0,\n",
       "        0, -1,  0,  0, -1, -1, -1, -1,  0,  1,  1,  1, -1,  0,  1])"
      ]
     },
     "execution_count": 70,
     "metadata": {},
     "output_type": "execute_result"
    }
   ],
   "source": [
    "y_test"
   ]
  },
  {
   "cell_type": "code",
   "execution_count": 71,
   "id": "4109f4c4",
   "metadata": {},
   "outputs": [
    {
     "data": {
      "text/plain": [
       "array([-1,  1,  1,  1,  1,  0,  1,  1,  1,  1,  1, -1,  0,  1,  1,  0,  1,\n",
       "        0, -1,  1,  1, -1,  1, -1, -1,  1, -1,  1,  1,  1, -1, -1, -1,  0,\n",
       "        1, -1,  0,  1,  1,  1,  0, -1, -1, -1, -1,  1,  1, -1, -1, -1,  0,\n",
       "        1, -1, -1,  0, -1,  1,  0,  0,  0, -1, -1, -1,  0,  0,  1,  0, -1,\n",
       "       -1,  0,  1,  0,  0,  0, -1, -1, -1,  0,  1,  0,  0, -1, -1,  0,  1,\n",
       "       -1,  1,  1,  0,  0,  0,  1, -1, -1,  0, -1,  1,  1, -1,  1])"
      ]
     },
     "execution_count": 71,
     "metadata": {},
     "output_type": "execute_result"
    }
   ],
   "source": [
    "y_train"
   ]
  },
  {
   "cell_type": "code",
   "execution_count": 72,
   "id": "86325b00",
   "metadata": {},
   "outputs": [
    {
     "data": {
      "text/plain": [
       "array([[ True],\n",
       "       [False],\n",
       "       [False],\n",
       "       [False],\n",
       "       [False],\n",
       "       [False],\n",
       "       [False],\n",
       "       [False],\n",
       "       [ True],\n",
       "       [False],\n",
       "       [False],\n",
       "       [False],\n",
       "       [False],\n",
       "       [False],\n",
       "       [False],\n",
       "       [False],\n",
       "       [False],\n",
       "       [ True],\n",
       "       [False],\n",
       "       [False],\n",
       "       [False],\n",
       "       [False],\n",
       "       [False],\n",
       "       [False],\n",
       "       [False]])"
      ]
     },
     "execution_count": 72,
     "metadata": {},
     "output_type": "execute_result"
    }
   ],
   "source": [
    "x_train[0]"
   ]
  },
  {
   "cell_type": "code",
   "execution_count": 73,
   "id": "bf55bb88",
   "metadata": {},
   "outputs": [],
   "source": [
    "# Prepare sample \n",
    "\n",
    "num_classes = 3\n",
    "\n",
    "y_train = np.array(y_train).reshape(100, 1)\n",
    "y_test = np.array(y_test).reshape(100, 1)\n",
    "\n",
    "y_train = keras.utils.to_categorical(y_train, num_classes)\n",
    "y_test = keras.utils.to_categorical(y_test, num_classes)\n",
    "\n",
    "x_train = np.array(x_train).reshape(100, 25)\n",
    "x_test = np.array(x_test).reshape(100, 25)"
   ]
  },
  {
   "cell_type": "code",
   "execution_count": 74,
   "id": "9f0a2ab0",
   "metadata": {},
   "outputs": [
    {
     "name": "stdout",
     "output_type": "stream",
     "text": [
      "Model: \"sequential_8\"\n",
      "_________________________________________________________________\n",
      "Layer (type)                 Output Shape              Param #   \n",
      "=================================================================\n",
      "dense_18 (Dense)             (None, 25)                650       \n",
      "_________________________________________________________________\n",
      "dense_19 (Dense)             (None, 3)                 78        \n",
      "=================================================================\n",
      "Total params: 728\n",
      "Trainable params: 728\n",
      "Non-trainable params: 0\n",
      "_________________________________________________________________\n"
     ]
    }
   ],
   "source": [
    "# Build neural network\n",
    "\n",
    "from tensorflow.keras.models import Sequential\n",
    "from tensorflow.keras.layers import Dense\n",
    "\n",
    "batch_size = 16\n",
    "epochs = 20\n",
    "\n",
    "model = Sequential()\n",
    "model.add(Dense(25, activation='relu', input_shape=(25,)))\n",
    "model.add(Dense(num_classes, activation='softmax'))\n",
    "model.summary()\n",
    "\n",
    "model.compile(loss='categorical_crossentropy',\n",
    "              optimizer='rmsprop',\n",
    "              metrics=['accuracy'])"
   ]
  },
  {
   "cell_type": "code",
   "execution_count": 75,
   "id": "a43168b7",
   "metadata": {},
   "outputs": [
    {
     "name": "stdout",
     "output_type": "stream",
     "text": [
      "Train on 100 samples, validate on 100 samples\n",
      "Epoch 1/20\n",
      "100/100 [==============================] - 1s 8ms/sample - loss: 1.1507 - acc: 0.2700 - val_loss: 1.1405 - val_acc: 0.2200\n",
      "Epoch 2/20\n",
      "100/100 [==============================] - 0s 469us/sample - loss: 1.0706 - acc: 0.3400 - val_loss: 1.0981 - val_acc: 0.2800\n",
      "Epoch 3/20\n",
      "100/100 [==============================] - 0s 378us/sample - loss: 1.0222 - acc: 0.4400 - val_loss: 1.0577 - val_acc: 0.3900\n",
      "Epoch 4/20\n",
      "100/100 [==============================] - 0s 469us/sample - loss: 0.9784 - acc: 0.4900 - val_loss: 1.0244 - val_acc: 0.4600\n",
      "Epoch 5/20\n",
      "100/100 [==============================] - 0s 469us/sample - loss: 0.9361 - acc: 0.5900 - val_loss: 0.9916 - val_acc: 0.5200\n",
      "Epoch 6/20\n",
      "100/100 [==============================] - 0s 378us/sample - loss: 0.8985 - acc: 0.6300 - val_loss: 0.9566 - val_acc: 0.6000\n",
      "Epoch 7/20\n",
      "100/100 [==============================] - 0s 469us/sample - loss: 0.8586 - acc: 0.7000 - val_loss: 0.9259 - val_acc: 0.6300\n",
      "Epoch 8/20\n",
      "100/100 [==============================] - 0s 534us/sample - loss: 0.8219 - acc: 0.7800 - val_loss: 0.8965 - val_acc: 0.6200\n",
      "Epoch 9/20\n",
      "100/100 [==============================] - 0s 469us/sample - loss: 0.7870 - acc: 0.7900 - val_loss: 0.8675 - val_acc: 0.6500\n",
      "Epoch 10/20\n",
      "100/100 [==============================] - 0s 534us/sample - loss: 0.7522 - acc: 0.7900 - val_loss: 0.8360 - val_acc: 0.6800\n",
      "Epoch 11/20\n",
      "100/100 [==============================] - 0s 469us/sample - loss: 0.7184 - acc: 0.7900 - val_loss: 0.8075 - val_acc: 0.6800\n",
      "Epoch 12/20\n",
      "100/100 [==============================] - 0s 534us/sample - loss: 0.6852 - acc: 0.8000 - val_loss: 0.7775 - val_acc: 0.7100\n",
      "Epoch 13/20\n",
      "100/100 [==============================] - 0s 469us/sample - loss: 0.6548 - acc: 0.8200 - val_loss: 0.7526 - val_acc: 0.7300\n",
      "Epoch 14/20\n",
      "100/100 [==============================] - 0s 534us/sample - loss: 0.6239 - acc: 0.8300 - val_loss: 0.7262 - val_acc: 0.7400\n",
      "Epoch 15/20\n",
      "100/100 [==============================] - 0s 469us/sample - loss: 0.5953 - acc: 0.8300 - val_loss: 0.7010 - val_acc: 0.7400\n",
      "Epoch 16/20\n",
      "100/100 [==============================] - 0s 469us/sample - loss: 0.5673 - acc: 0.8500 - val_loss: 0.6756 - val_acc: 0.7400\n",
      "Epoch 17/20\n",
      "100/100 [==============================] - 0s 469us/sample - loss: 0.5403 - acc: 0.8700 - val_loss: 0.6504 - val_acc: 0.7500\n",
      "Epoch 18/20\n",
      "100/100 [==============================] - 0s 469us/sample - loss: 0.5141 - acc: 0.8700 - val_loss: 0.6264 - val_acc: 0.7700\n",
      "Epoch 19/20\n",
      "100/100 [==============================] - 0s 469us/sample - loss: 0.4888 - acc: 0.8800 - val_loss: 0.6016 - val_acc: 0.7700\n",
      "Epoch 20/20\n",
      "100/100 [==============================] - 0s 313us/sample - loss: 0.4650 - acc: 0.8800 - val_loss: 0.5802 - val_acc: 0.7900\n",
      "Test loss: 0.58018115401268\n",
      "Test accuracy: 0.79\n"
     ]
    }
   ],
   "source": [
    "# Train and evaluate \n",
    "history = model.fit(x_train, y_train,\n",
    "                    batch_size=batch_size,\n",
    "                    epochs=epochs,\n",
    "                    verbose=1,\n",
    "                    validation_data=(x_test, y_test))\n",
    "\n",
    "score = model.evaluate(x_test, y_test, verbose=0)\n",
    "print('Test loss:', score[0])\n",
    "print('Test accuracy:', score[1])"
   ]
  },
  {
   "cell_type": "code",
   "execution_count": 76,
   "id": "bfad8a8b",
   "metadata": {},
   "outputs": [
    {
     "data": {
      "text/plain": [
       "{'loss': [1.1507233905792236,\n",
       "  1.07059410572052,\n",
       "  1.0222268867492676,\n",
       "  0.9784397101402282,\n",
       "  0.936110258102417,\n",
       "  0.8985039615631103,\n",
       "  0.858601508140564,\n",
       "  0.8219054031372071,\n",
       "  0.7869568705558777,\n",
       "  0.7521941876411438,\n",
       "  0.7184061527252197,\n",
       "  0.6851942873001099,\n",
       "  0.6548413372039795,\n",
       "  0.6238734817504883,\n",
       "  0.5953133869171142,\n",
       "  0.5672657227516175,\n",
       "  0.5402910149097443,\n",
       "  0.5141371655464172,\n",
       "  0.48876424074172975,\n",
       "  0.4650138223171234],\n",
       " 'acc': [0.27,\n",
       "  0.34,\n",
       "  0.44,\n",
       "  0.49,\n",
       "  0.59,\n",
       "  0.63,\n",
       "  0.7,\n",
       "  0.78,\n",
       "  0.79,\n",
       "  0.79,\n",
       "  0.79,\n",
       "  0.8,\n",
       "  0.82,\n",
       "  0.83,\n",
       "  0.83,\n",
       "  0.85,\n",
       "  0.87,\n",
       "  0.87,\n",
       "  0.88,\n",
       "  0.88],\n",
       " 'val_loss': [1.1405128669738769,\n",
       "  1.0980698776245117,\n",
       "  1.0576560592651367,\n",
       "  1.0243917846679687,\n",
       "  0.9916483306884766,\n",
       "  0.9566456317901612,\n",
       "  0.9259096050262451,\n",
       "  0.8965185976028442,\n",
       "  0.8675259661674499,\n",
       "  0.8360195779800415,\n",
       "  0.8074645137786866,\n",
       "  0.7775086164474487,\n",
       "  0.7525776743888855,\n",
       "  0.7261971879005432,\n",
       "  0.7009677410125732,\n",
       "  0.6756215429306031,\n",
       "  0.6504463124275207,\n",
       "  0.6264205145835876,\n",
       "  0.6015798115730285,\n",
       "  0.5801811623573303],\n",
       " 'val_acc': [0.22,\n",
       "  0.28,\n",
       "  0.39,\n",
       "  0.46,\n",
       "  0.52,\n",
       "  0.6,\n",
       "  0.63,\n",
       "  0.62,\n",
       "  0.65,\n",
       "  0.68,\n",
       "  0.68,\n",
       "  0.71,\n",
       "  0.73,\n",
       "  0.74,\n",
       "  0.74,\n",
       "  0.74,\n",
       "  0.75,\n",
       "  0.77,\n",
       "  0.77,\n",
       "  0.79]}"
      ]
     },
     "execution_count": 76,
     "metadata": {},
     "output_type": "execute_result"
    }
   ],
   "source": [
    "history.history"
   ]
  },
  {
   "cell_type": "code",
   "execution_count": 77,
   "id": "f291dcf4",
   "metadata": {},
   "outputs": [
    {
     "data": {
      "image/png": "[encoded data removed]",
      "text/plain": [
       "<Figure size 432x288 with 1 Axes>"
      ]
     },
     "metadata": {
      "needs_background": "light"
     },
     "output_type": "display_data"
    }
   ],
   "source": [
    "history_dict = history.history\n",
    "acc = history.history['acc']\n",
    "val_acc = history.history['val_acc']\n",
    "plt.plot(range(epochs), acc, 'bo', label='Training accuracy')\n",
    "plt.plot(range(epochs), val_acc, 'b', label='Validation accuracy')\n",
    "plt.title('Training and validation accuracy')\n",
    "plt.xlabel('Epochs')\n",
    "plt.ylabel('Accuracy')\n",
    "plt.legend()\n",
    "plt.show()"
   ]
  },
  {
   "cell_type": "code",
   "execution_count": 78,
   "id": "3de9ae63",
   "metadata": {},
   "outputs": [],
   "source": [
    "# this was a very basic attempt at discovering the potential and workings of neural networks."
   ]
  },
  {
   "cell_type": "markdown",
   "id": "b0d0abc0",
   "metadata": {},
   "source": [
    "## Character recognition\n",
    "\n",
    "A common application of deep learning is to recognize handwriting with the MNIST dataset. You can find a Keras example for the MNIST dataset here: https://github.com/keras-team/keras/blob/master/examples/mnist_mlp.py"
   ]
  },
  {
   "cell_type": "markdown",
   "id": "11168add",
   "metadata": {},
   "source": [
    "Explore some variations of the network, e.g. add a layer or more epochs. Is the accuracy increasing? Also, try out different sample sizes and pixel error probabilities p and see how the model reacts. (Think about what happens if p is close to 1?) Can you get the model to overfit?"
   ]
  },
  {
   "cell_type": "markdown",
   "id": "e8cdf579",
   "metadata": {},
   "source": [
    "- Add a layer: In the following example, accuracy decreases.\n"
   ]
  },
  {
   "cell_type": "code",
   "execution_count": 79,
   "id": "200329e3",
   "metadata": {},
   "outputs": [
    {
     "name": "stdout",
     "output_type": "stream",
     "text": [
      "Model: \"sequential_9\"\n",
      "_________________________________________________________________\n",
      "Layer (type)                 Output Shape              Param #   \n",
      "=================================================================\n",
      "dense_20 (Dense)             (None, 25)                650       \n",
      "_________________________________________________________________\n",
      "dense_21 (Dense)             (None, 5)                 130       \n",
      "_________________________________________________________________\n",
      "dense_22 (Dense)             (None, 3)                 18        \n",
      "=================================================================\n",
      "Total params: 798\n",
      "Trainable params: 798\n",
      "Non-trainable params: 0\n",
      "_________________________________________________________________\n",
      "Train on 100 samples, validate on 100 samples\n",
      "Epoch 1/20\n",
      "100/100 [==============================] - 1s 9ms/sample - loss: 1.0023 - acc: 0.4900 - val_loss: 0.9952 - val_acc: 0.5500\n",
      "Epoch 2/20\n",
      "100/100 [==============================] - 0s 378us/sample - loss: 0.9295 - acc: 0.6000 - val_loss: 0.9494 - val_acc: 0.5900\n",
      "Epoch 3/20\n",
      "100/100 [==============================] - 0s 469us/sample - loss: 0.8829 - acc: 0.6300 - val_loss: 0.9044 - val_acc: 0.6100\n",
      "Epoch 4/20\n",
      "100/100 [==============================] - 0s 469us/sample - loss: 0.8394 - acc: 0.6300 - val_loss: 0.8664 - val_acc: 0.6100\n",
      "Epoch 5/20\n",
      "100/100 [==============================] - 0s 313us/sample - loss: 0.8021 - acc: 0.6600 - val_loss: 0.8355 - val_acc: 0.6100\n",
      "Epoch 6/20\n",
      "100/100 [==============================] - 0s 313us/sample - loss: 0.7700 - acc: 0.6700 - val_loss: 0.8028 - val_acc: 0.6000\n",
      "Epoch 7/20\n",
      "100/100 [==============================] - 0s 534us/sample - loss: 0.7369 - acc: 0.6700 - val_loss: 0.7708 - val_acc: 0.6400\n",
      "Epoch 8/20\n",
      "100/100 [==============================] - 0s 469us/sample - loss: 0.7053 - acc: 0.6800 - val_loss: 0.7438 - val_acc: 0.6400\n",
      "Epoch 9/20\n",
      "100/100 [==============================] - 0s 534us/sample - loss: 0.6771 - acc: 0.6800 - val_loss: 0.7144 - val_acc: 0.6400\n",
      "Epoch 10/20\n",
      "100/100 [==============================] - 0s 469us/sample - loss: 0.6493 - acc: 0.6800 - val_loss: 0.6928 - val_acc: 0.6400\n",
      "Epoch 11/20\n",
      "100/100 [==============================] - 0s 378us/sample - loss: 0.6240 - acc: 0.6800 - val_loss: 0.6716 - val_acc: 0.6400\n",
      "Epoch 12/20\n",
      "100/100 [==============================] - 0s 531us/sample - loss: 0.6002 - acc: 0.7000 - val_loss: 0.6514 - val_acc: 0.6400\n",
      "Epoch 13/20\n",
      "100/100 [==============================] - 0s 469us/sample - loss: 0.5780 - acc: 0.7100 - val_loss: 0.6317 - val_acc: 0.6300\n",
      "Epoch 14/20\n",
      "100/100 [==============================] - 0s 534us/sample - loss: 0.5573 - acc: 0.7100 - val_loss: 0.6149 - val_acc: 0.6300\n",
      "Epoch 15/20\n",
      "100/100 [==============================] - 0s 625us/sample - loss: 0.5393 - acc: 0.7200 - val_loss: 0.5980 - val_acc: 0.6300\n",
      "Epoch 16/20\n",
      "100/100 [==============================] - 0s 534us/sample - loss: 0.5224 - acc: 0.7300 - val_loss: 0.5838 - val_acc: 0.6300\n",
      "Epoch 17/20\n",
      "100/100 [==============================] - 0s 625us/sample - loss: 0.5058 - acc: 0.7700 - val_loss: 0.5704 - val_acc: 0.6300\n",
      "Epoch 18/20\n",
      "100/100 [==============================] - 0s 534us/sample - loss: 0.4912 - acc: 0.7800 - val_loss: 0.5590 - val_acc: 0.6300\n",
      "Epoch 19/20\n",
      "100/100 [==============================] - 0s 534us/sample - loss: 0.4751 - acc: 0.7800 - val_loss: 0.5462 - val_acc: 0.6700\n",
      "Epoch 20/20\n",
      "100/100 [==============================] - 0s 469us/sample - loss: 0.4606 - acc: 0.7900 - val_loss: 0.5338 - val_acc: 0.6900\n",
      "Test loss: 0.5338457238674164\n",
      "Test accuracy: 0.69\n"
     ]
    },
    {
     "data": {
      "image/png": "[encoded data removed]",
      "text/plain": [
       "<Figure size 432x288 with 1 Axes>"
      ]
     },
     "metadata": {
      "needs_background": "light"
     },
     "output_type": "display_data"
    }
   ],
   "source": [
    "# Build, train and evaluate neural network\n",
    "\n",
    "from tensorflow.keras.models import Sequential\n",
    "from tensorflow.keras.layers import Dense\n",
    "\n",
    "batch_size = 16\n",
    "epochs = 20\n",
    "\n",
    "model = Sequential()\n",
    "model.add(Dense(25, activation='relu', input_shape=(25,)))\n",
    "model.add(Dense(5, activation='relu', input_shape=(25,)))\n",
    "model.add(Dense(num_classes, activation='softmax'))\n",
    "model.summary()\n",
    "\n",
    "model.compile(loss='categorical_crossentropy',  # for multi-class classification problem\n",
    "              optimizer='rmsprop',\n",
    "              metrics=['accuracy'])\n",
    "\n",
    "history = model.fit(x_train, y_train,\n",
    "                    batch_size=batch_size,\n",
    "                    epochs=epochs,\n",
    "                    verbose=1,\n",
    "                    validation_data=(x_test, y_test))\n",
    "\n",
    "score = model.evaluate(x_test, y_test, verbose=0)\n",
    "print('Test loss:', score[0])\n",
    "print('Test accuracy:', score[1])\n",
    "\n",
    "history_dict = history.history\n",
    "acc = history.history['acc']\n",
    "val_acc = history.history['val_acc']\n",
    "plt.plot(range(epochs), acc, 'bo', label='Training accuracy')\n",
    "plt.plot(range(epochs), val_acc, 'b', label='Validation accuracy')\n",
    "plt.title('Training and validation accuracy')\n",
    "plt.xlabel('Epochs')\n",
    "plt.ylabel('Accuracy')\n",
    "plt.legend()\n",
    "plt.show()"
   ]
  },
  {
   "cell_type": "markdown",
   "id": "8a6bd864",
   "metadata": {},
   "source": [
    "- More epochs: Accuracy improves"
   ]
  },
  {
   "cell_type": "code",
   "execution_count": 80,
   "id": "1ec43e98",
   "metadata": {},
   "outputs": [
    {
     "name": "stdout",
     "output_type": "stream",
     "text": [
      "Model: \"sequential_10\"\n",
      "_________________________________________________________________\n",
      "Layer (type)                 Output Shape              Param #   \n",
      "=================================================================\n",
      "dense_23 (Dense)             (None, 25)                650       \n",
      "_________________________________________________________________\n",
      "dense_24 (Dense)             (None, 3)                 78        \n",
      "=================================================================\n",
      "Total params: 728\n",
      "Trainable params: 728\n",
      "Non-trainable params: 0\n",
      "_________________________________________________________________\n",
      "Train on 100 samples, validate on 100 samples\n",
      "Epoch 1/100\n",
      "100/100 [==============================] - 1s 8ms/sample - loss: 1.0696 - acc: 0.3300 - val_loss: 1.0534 - val_acc: 0.4500\n",
      "Epoch 2/100\n",
      "100/100 [==============================] - 0s 413us/sample - loss: 0.9931 - acc: 0.4700 - val_loss: 1.0100 - val_acc: 0.5000\n",
      "Epoch 3/100\n",
      "100/100 [==============================] - 0s 469us/sample - loss: 0.9452 - acc: 0.5200 - val_loss: 0.9716 - val_acc: 0.5400\n",
      "Epoch 4/100\n",
      "100/100 [==============================] - 0s 378us/sample - loss: 0.9061 - acc: 0.5500 - val_loss: 0.9389 - val_acc: 0.5900\n",
      "Epoch 5/100\n",
      "100/100 [==============================] - 0s 313us/sample - loss: 0.8664 - acc: 0.6100 - val_loss: 0.9055 - val_acc: 0.6100\n",
      "Epoch 6/100\n",
      "100/100 [==============================] - 0s 378us/sample - loss: 0.8277 - acc: 0.6700 - val_loss: 0.8747 - val_acc: 0.6100\n",
      "Epoch 7/100\n",
      "100/100 [==============================] - 0s 469us/sample - loss: 0.7925 - acc: 0.7000 - val_loss: 0.8443 - val_acc: 0.6300\n",
      "Epoch 8/100\n",
      "100/100 [==============================] - 0s 534us/sample - loss: 0.7587 - acc: 0.7300 - val_loss: 0.8149 - val_acc: 0.6400\n",
      "Epoch 9/100\n",
      "100/100 [==============================] - 0s 480us/sample - loss: 0.7258 - acc: 0.7300 - val_loss: 0.7886 - val_acc: 0.6500\n",
      "Epoch 10/100\n",
      "100/100 [==============================] - 0s 363us/sample - loss: 0.6954 - acc: 0.7300 - val_loss: 0.7626 - val_acc: 0.6700\n",
      "Epoch 11/100\n",
      "100/100 [==============================] - 0s 313us/sample - loss: 0.6663 - acc: 0.7500 - val_loss: 0.7381 - val_acc: 0.6700\n",
      "Epoch 12/100\n",
      "100/100 [==============================] - 0s 378us/sample - loss: 0.6389 - acc: 0.7600 - val_loss: 0.7131 - val_acc: 0.6900\n",
      "Epoch 13/100\n",
      "100/100 [==============================] - 0s 469us/sample - loss: 0.6109 - acc: 0.7800 - val_loss: 0.6907 - val_acc: 0.7100\n",
      "Epoch 14/100\n",
      "100/100 [==============================] - 0s 469us/sample - loss: 0.5854 - acc: 0.7900 - val_loss: 0.6680 - val_acc: 0.7100\n",
      "Epoch 15/100\n",
      "100/100 [==============================] - 0s 313us/sample - loss: 0.5612 - acc: 0.8200 - val_loss: 0.6491 - val_acc: 0.7200\n",
      "Epoch 16/100\n",
      "100/100 [==============================] - 0s 313us/sample - loss: 0.5388 - acc: 0.8200 - val_loss: 0.6285 - val_acc: 0.7400\n",
      "Epoch 17/100\n",
      "100/100 [==============================] - 0s 378us/sample - loss: 0.5176 - acc: 0.8600 - val_loss: 0.6099 - val_acc: 0.7500\n",
      "Epoch 18/100\n",
      "100/100 [==============================] - 0s 469us/sample - loss: 0.4960 - acc: 0.8700 - val_loss: 0.5935 - val_acc: 0.7500\n",
      "Epoch 19/100\n",
      "100/100 [==============================] - 0s 534us/sample - loss: 0.4768 - acc: 0.8800 - val_loss: 0.5729 - val_acc: 0.7900\n",
      "Epoch 20/100\n",
      "100/100 [==============================] - 0s 469us/sample - loss: 0.4574 - acc: 0.9000 - val_loss: 0.5562 - val_acc: 0.8000\n",
      "Epoch 21/100\n",
      "100/100 [==============================] - 0s 378us/sample - loss: 0.4390 - acc: 0.9200 - val_loss: 0.5415 - val_acc: 0.8000\n",
      "Epoch 22/100\n",
      "100/100 [==============================] - 0s 469us/sample - loss: 0.4222 - acc: 0.9200 - val_loss: 0.5258 - val_acc: 0.8100\n",
      "Epoch 23/100\n",
      "100/100 [==============================] - 0s 378us/sample - loss: 0.4048 - acc: 0.9200 - val_loss: 0.5109 - val_acc: 0.8200\n",
      "Epoch 24/100\n",
      "100/100 [==============================] - 0s 469us/sample - loss: 0.3878 - acc: 0.9300 - val_loss: 0.4966 - val_acc: 0.8400\n",
      "Epoch 25/100\n",
      "100/100 [==============================] - 0s 378us/sample - loss: 0.3715 - acc: 0.9300 - val_loss: 0.4826 - val_acc: 0.8400\n",
      "Epoch 26/100\n",
      "100/100 [==============================] - 0s 313us/sample - loss: 0.3558 - acc: 0.9400 - val_loss: 0.4693 - val_acc: 0.8400\n",
      "Epoch 27/100\n",
      "100/100 [==============================] - 0s 378us/sample - loss: 0.3406 - acc: 0.9400 - val_loss: 0.4540 - val_acc: 0.8500\n",
      "Epoch 28/100\n",
      "100/100 [==============================] - 0s 469us/sample - loss: 0.3251 - acc: 0.9500 - val_loss: 0.4414 - val_acc: 0.8500\n",
      "Epoch 29/100\n",
      "100/100 [==============================] - 0s 390us/sample - loss: 0.3114 - acc: 0.9500 - val_loss: 0.4305 - val_acc: 0.8500\n",
      "Epoch 30/100\n",
      "100/100 [==============================] - 0s 469us/sample - loss: 0.2980 - acc: 0.9500 - val_loss: 0.4173 - val_acc: 0.8600\n",
      "Epoch 31/100\n",
      "100/100 [==============================] - 0s 534us/sample - loss: 0.2849 - acc: 0.9500 - val_loss: 0.4078 - val_acc: 0.8600\n",
      "Epoch 32/100\n",
      "100/100 [==============================] - 0s 469us/sample - loss: 0.2731 - acc: 0.9500 - val_loss: 0.3949 - val_acc: 0.8600\n",
      "Epoch 33/100\n",
      "100/100 [==============================] - 0s 313us/sample - loss: 0.2605 - acc: 0.9600 - val_loss: 0.3869 - val_acc: 0.8600\n",
      "Epoch 34/100\n",
      "100/100 [==============================] - 0s 378us/sample - loss: 0.2499 - acc: 0.9600 - val_loss: 0.3747 - val_acc: 0.8700\n",
      "Epoch 35/100\n",
      "100/100 [==============================] - 0s 313us/sample - loss: 0.2379 - acc: 0.9700 - val_loss: 0.3625 - val_acc: 0.8700\n",
      "Epoch 36/100\n",
      "100/100 [==============================] - 0s 378us/sample - loss: 0.2271 - acc: 0.9700 - val_loss: 0.3528 - val_acc: 0.8700\n",
      "Epoch 37/100\n",
      "100/100 [==============================] - 0s 313us/sample - loss: 0.2163 - acc: 0.9700 - val_loss: 0.3434 - val_acc: 0.8900\n",
      "Epoch 38/100\n",
      "100/100 [==============================] - 0s 378us/sample - loss: 0.2073 - acc: 0.9700 - val_loss: 0.3361 - val_acc: 0.8900\n",
      "Epoch 39/100\n",
      "100/100 [==============================] - 0s 313us/sample - loss: 0.1985 - acc: 0.9700 - val_loss: 0.3283 - val_acc: 0.8900\n",
      "Epoch 40/100\n",
      "100/100 [==============================] - 0s 313us/sample - loss: 0.1898 - acc: 0.9700 - val_loss: 0.3195 - val_acc: 0.8900\n",
      "Epoch 41/100\n",
      "100/100 [==============================] - 0s 378us/sample - loss: 0.1815 - acc: 0.9700 - val_loss: 0.3115 - val_acc: 0.8900\n",
      "Epoch 42/100\n",
      "100/100 [==============================] - 0s 313us/sample - loss: 0.1730 - acc: 0.9800 - val_loss: 0.3025 - val_acc: 0.9000\n",
      "Epoch 43/100\n",
      "100/100 [==============================] - 0s 378us/sample - loss: 0.1644 - acc: 0.9800 - val_loss: 0.2942 - val_acc: 0.9000\n",
      "Epoch 44/100\n",
      "100/100 [==============================] - 0s 313us/sample - loss: 0.1567 - acc: 0.9900 - val_loss: 0.2867 - val_acc: 0.9000\n",
      "Epoch 45/100\n",
      "100/100 [==============================] - 0s 378us/sample - loss: 0.1498 - acc: 0.9900 - val_loss: 0.2803 - val_acc: 0.9000\n",
      "Epoch 46/100\n",
      "100/100 [==============================] - 0s 313us/sample - loss: 0.1425 - acc: 0.9900 - val_loss: 0.2752 - val_acc: 0.9000\n",
      "Epoch 47/100\n",
      "100/100 [==============================] - 0s 313us/sample - loss: 0.1357 - acc: 1.0000 - val_loss: 0.2682 - val_acc: 0.8900\n",
      "Epoch 48/100\n",
      "100/100 [==============================] - 0s 534us/sample - loss: 0.1295 - acc: 1.0000 - val_loss: 0.2635 - val_acc: 0.8900\n",
      "Epoch 49/100\n",
      "100/100 [==============================] - 0s 313us/sample - loss: 0.1232 - acc: 1.0000 - val_loss: 0.2555 - val_acc: 0.9000\n",
      "Epoch 50/100\n",
      "100/100 [==============================] - 0s 378us/sample - loss: 0.1171 - acc: 1.0000 - val_loss: 0.2495 - val_acc: 0.9100\n",
      "Epoch 51/100\n",
      "100/100 [==============================] - 0s 469us/sample - loss: 0.1119 - acc: 1.0000 - val_loss: 0.2444 - val_acc: 0.9100\n",
      "Epoch 52/100\n",
      "100/100 [==============================] - 0s 378us/sample - loss: 0.1063 - acc: 1.0000 - val_loss: 0.2388 - val_acc: 0.9100\n",
      "Epoch 53/100\n",
      "100/100 [==============================] - 0s 313us/sample - loss: 0.1012 - acc: 1.0000 - val_loss: 0.2345 - val_acc: 0.9000\n",
      "Epoch 54/100\n",
      "100/100 [==============================] - 0s 378us/sample - loss: 0.0963 - acc: 1.0000 - val_loss: 0.2297 - val_acc: 0.9000\n",
      "Epoch 55/100\n"
     ]
    },
    {
     "name": "stdout",
     "output_type": "stream",
     "text": [
      "100/100 [==============================] - 0s 469us/sample - loss: 0.0915 - acc: 1.0000 - val_loss: 0.2252 - val_acc: 0.9100\n",
      "Epoch 56/100\n",
      "100/100 [==============================] - 0s 534us/sample - loss: 0.0873 - acc: 1.0000 - val_loss: 0.2197 - val_acc: 0.9100\n",
      "Epoch 57/100\n",
      "100/100 [==============================] - 0s 469us/sample - loss: 0.0835 - acc: 1.0000 - val_loss: 0.2150 - val_acc: 0.9100\n",
      "Epoch 58/100\n",
      "100/100 [==============================] - 0s 534us/sample - loss: 0.0790 - acc: 1.0000 - val_loss: 0.2104 - val_acc: 0.9100\n",
      "Epoch 59/100\n",
      "100/100 [==============================] - 0s 469us/sample - loss: 0.0748 - acc: 1.0000 - val_loss: 0.2066 - val_acc: 0.9100\n",
      "Epoch 60/100\n",
      "100/100 [==============================] - 0s 469us/sample - loss: 0.0711 - acc: 1.0000 - val_loss: 0.2039 - val_acc: 0.9100\n",
      "Epoch 61/100\n",
      "100/100 [==============================] - 0s 313us/sample - loss: 0.0680 - acc: 1.0000 - val_loss: 0.2015 - val_acc: 0.9100\n",
      "Epoch 62/100\n",
      "100/100 [==============================] - 0s 469us/sample - loss: 0.0649 - acc: 1.0000 - val_loss: 0.1969 - val_acc: 0.9100\n",
      "Epoch 63/100\n",
      "100/100 [==============================] - 0s 378us/sample - loss: 0.0615 - acc: 1.0000 - val_loss: 0.1930 - val_acc: 0.9200\n",
      "Epoch 64/100\n",
      "100/100 [==============================] - 0s 469us/sample - loss: 0.0584 - acc: 1.0000 - val_loss: 0.1898 - val_acc: 0.9200\n",
      "Epoch 65/100\n",
      "100/100 [==============================] - 0s 534us/sample - loss: 0.0554 - acc: 1.0000 - val_loss: 0.1862 - val_acc: 0.9200\n",
      "Epoch 66/100\n",
      "100/100 [==============================] - 0s 469us/sample - loss: 0.0527 - acc: 1.0000 - val_loss: 0.1853 - val_acc: 0.9100\n",
      "Epoch 67/100\n",
      "100/100 [==============================] - 0s 378us/sample - loss: 0.0498 - acc: 1.0000 - val_loss: 0.1818 - val_acc: 0.9200\n",
      "Epoch 68/100\n",
      "100/100 [==============================] - 0s 478us/sample - loss: 0.0474 - acc: 1.0000 - val_loss: 0.1805 - val_acc: 0.9200\n",
      "Epoch 69/100\n",
      "100/100 [==============================] - 0s 435us/sample - loss: 0.0452 - acc: 1.0000 - val_loss: 0.1777 - val_acc: 0.9200\n",
      "Epoch 70/100\n",
      "100/100 [==============================] - 0s 383us/sample - loss: 0.0431 - acc: 1.0000 - val_loss: 0.1733 - val_acc: 0.9400\n",
      "Epoch 71/100\n",
      "100/100 [==============================] - 0s 313us/sample - loss: 0.0407 - acc: 1.0000 - val_loss: 0.1700 - val_acc: 0.9400\n",
      "Epoch 72/100\n",
      "100/100 [==============================] - 0s 509us/sample - loss: 0.0383 - acc: 1.0000 - val_loss: 0.1693 - val_acc: 0.9400\n",
      "Epoch 73/100\n",
      "100/100 [==============================] - 0s 313us/sample - loss: 0.0364 - acc: 1.0000 - val_loss: 0.1663 - val_acc: 0.9400\n",
      "Epoch 74/100\n",
      "100/100 [==============================] - 0s 534us/sample - loss: 0.0345 - acc: 1.0000 - val_loss: 0.1637 - val_acc: 0.9400\n",
      "Epoch 75/100\n",
      "100/100 [==============================] - 0s 313us/sample - loss: 0.0328 - acc: 1.0000 - val_loss: 0.1642 - val_acc: 0.9400\n",
      "Epoch 76/100\n",
      "100/100 [==============================] - 0s 469us/sample - loss: 0.0310 - acc: 1.0000 - val_loss: 0.1622 - val_acc: 0.9400\n",
      "Epoch 77/100\n",
      "100/100 [==============================] - 0s 313us/sample - loss: 0.0296 - acc: 1.0000 - val_loss: 0.1614 - val_acc: 0.9400\n",
      "Epoch 78/100\n",
      "100/100 [==============================] - 0s 469us/sample - loss: 0.0283 - acc: 1.0000 - val_loss: 0.1587 - val_acc: 0.9400\n",
      "Epoch 79/100\n",
      "100/100 [==============================] - 0s 378us/sample - loss: 0.0266 - acc: 1.0000 - val_loss: 0.1564 - val_acc: 0.9400\n",
      "Epoch 80/100\n",
      "100/100 [==============================] - 0s 313us/sample - loss: 0.0253 - acc: 1.0000 - val_loss: 0.1550 - val_acc: 0.9400\n",
      "Epoch 81/100\n",
      "100/100 [==============================] - 0s 378us/sample - loss: 0.0238 - acc: 1.0000 - val_loss: 0.1540 - val_acc: 0.9400\n",
      "Epoch 82/100\n",
      "100/100 [==============================] - 0s 313us/sample - loss: 0.0228 - acc: 1.0000 - val_loss: 0.1537 - val_acc: 0.9400\n",
      "Epoch 83/100\n",
      "100/100 [==============================] - 0s 313us/sample - loss: 0.0216 - acc: 1.0000 - val_loss: 0.1526 - val_acc: 0.9400\n",
      "Epoch 84/100\n",
      "100/100 [==============================] - 0s 378us/sample - loss: 0.0204 - acc: 1.0000 - val_loss: 0.1499 - val_acc: 0.9400\n",
      "Epoch 85/100\n",
      "100/100 [==============================] - 0s 313us/sample - loss: 0.0193 - acc: 1.0000 - val_loss: 0.1479 - val_acc: 0.9400\n",
      "Epoch 86/100\n",
      "100/100 [==============================] - 0s 378us/sample - loss: 0.0182 - acc: 1.0000 - val_loss: 0.1483 - val_acc: 0.9400\n",
      "Epoch 87/100\n",
      "100/100 [==============================] - 0s 313us/sample - loss: 0.0172 - acc: 1.0000 - val_loss: 0.1459 - val_acc: 0.9400\n",
      "Epoch 88/100\n",
      "100/100 [==============================] - 0s 469us/sample - loss: 0.0161 - acc: 1.0000 - val_loss: 0.1445 - val_acc: 0.9400\n",
      "Epoch 89/100\n",
      "100/100 [==============================] - 0s 313us/sample - loss: 0.0153 - acc: 1.0000 - val_loss: 0.1449 - val_acc: 0.9400\n",
      "Epoch 90/100\n",
      "100/100 [==============================] - 0s 481us/sample - loss: 0.0145 - acc: 1.0000 - val_loss: 0.1440 - val_acc: 0.9400\n",
      "Epoch 91/100\n",
      "100/100 [==============================] - 0s 363us/sample - loss: 0.0137 - acc: 1.0000 - val_loss: 0.1443 - val_acc: 0.9400\n",
      "Epoch 92/100\n",
      "100/100 [==============================] - 0s 469us/sample - loss: 0.0131 - acc: 1.0000 - val_loss: 0.1430 - val_acc: 0.9400\n",
      "Epoch 93/100\n",
      "100/100 [==============================] - 0s 378us/sample - loss: 0.0122 - acc: 1.0000 - val_loss: 0.1405 - val_acc: 0.9400\n",
      "Epoch 94/100\n",
      "100/100 [==============================] - 0s 469us/sample - loss: 0.0115 - acc: 1.0000 - val_loss: 0.1393 - val_acc: 0.9400\n",
      "Epoch 95/100\n",
      "100/100 [==============================] - 0s 313us/sample - loss: 0.0108 - acc: 1.0000 - val_loss: 0.1365 - val_acc: 0.9400\n",
      "Epoch 96/100\n",
      "100/100 [==============================] - 0s 378us/sample - loss: 0.0101 - acc: 1.0000 - val_loss: 0.1362 - val_acc: 0.9400\n",
      "Epoch 97/100\n",
      "100/100 [==============================] - 0s 313us/sample - loss: 0.0096 - acc: 1.0000 - val_loss: 0.1354 - val_acc: 0.9400\n",
      "Epoch 98/100\n",
      "100/100 [==============================] - 0s 534us/sample - loss: 0.0091 - acc: 1.0000 - val_loss: 0.1349 - val_acc: 0.9400\n",
      "Epoch 99/100\n",
      "100/100 [==============================] - 0s 469us/sample - loss: 0.0086 - acc: 1.0000 - val_loss: 0.1347 - val_acc: 0.9400\n",
      "Epoch 100/100\n",
      "100/100 [==============================] - 0s 534us/sample - loss: 0.0080 - acc: 1.0000 - val_loss: 0.1351 - val_acc: 0.9400\n",
      "Test loss: 0.1351448773476295\n",
      "Test accuracy: 0.94\n"
     ]
    },
    {
     "data": {
      "image/png": "[encoded data removed]",
      "text/plain": [
       "<Figure size 432x288 with 1 Axes>"
      ]
     },
     "metadata": {
      "needs_background": "light"
     },
     "output_type": "display_data"
    }
   ],
   "source": [
    "# Build, train and evaluate neural network\n",
    "\n",
    "from tensorflow.keras.models import Sequential\n",
    "from tensorflow.keras.layers import Dense\n",
    "\n",
    "batch_size = 16\n",
    "epochs = 100\n",
    "\n",
    "model = Sequential()\n",
    "model.add(Dense(25, activation='relu', input_shape=(25,)))\n",
    "model.add(Dense(num_classes, activation='softmax'))\n",
    "model.summary()\n",
    "\n",
    "model.compile(loss='categorical_crossentropy',\n",
    "              optimizer='rmsprop',\n",
    "              metrics=['accuracy'])\n",
    "\n",
    "history = model.fit(x_train, y_train,\n",
    "                    batch_size=batch_size,\n",
    "                    epochs=epochs,\n",
    "                    verbose=1,\n",
    "                    validation_data=(x_test, y_test))\n",
    "\n",
    "score = model.evaluate(x_test, y_test, verbose=0)\n",
    "print('Test loss:', score[0])\n",
    "print('Test accuracy:', score[1])\n",
    "\n",
    "history_dict = history.history\n",
    "acc = history.history['acc']\n",
    "val_acc = history.history['val_acc']\n",
    "plt.plot(range(epochs), acc, 'bo', label='Training accuracy')\n",
    "plt.plot(range(epochs), val_acc, 'b', label='Validation accuracy')\n",
    "plt.title('Training and validation accuracy')\n",
    "plt.xlabel('Epochs')\n",
    "plt.ylabel('Accuracy')\n",
    "plt.legend()\n",
    "plt.show()"
   ]
  },
  {
   "cell_type": "markdown",
   "id": "10db3478",
   "metadata": {},
   "source": [
    "- Increase sample size: Accuracy increases"
   ]
  },
  {
   "cell_type": "code",
   "execution_count": 81,
   "id": "d52c8653",
   "metadata": {},
   "outputs": [],
   "source": [
    "# create train and test data (with checkmark, x or empty)\n",
    "y_train = np.random.randint(-1, 2, size=1000)\n",
    "x_train = [modify(y).reshape((25,1)) for y in y_train] \n",
    "\n",
    "y_test = np.random.randint(-1, 2, size=1000)\n",
    "x_test = [modify(y).reshape((25,1)) for y in y_test] \n",
    "\n",
    "y_train = np.array(y_train).reshape(1000, 1)\n",
    "y_test = np.array(y_test).reshape(1000, 1)\n",
    "\n",
    "y_train = keras.utils.to_categorical(y_train, num_classes)\n",
    "y_test = keras.utils.to_categorical(y_test, num_classes)\n",
    "\n",
    "x_train = np.array(x_train).reshape(1000, 25)\n",
    "x_test = np.array(x_test).reshape(1000, 25)"
   ]
  },
  {
   "cell_type": "code",
   "execution_count": 82,
   "id": "7b71fd77",
   "metadata": {},
   "outputs": [
    {
     "name": "stdout",
     "output_type": "stream",
     "text": [
      "Model: \"sequential_11\"\n",
      "_________________________________________________________________\n",
      "Layer (type)                 Output Shape              Param #   \n",
      "=================================================================\n",
      "dense_25 (Dense)             (None, 25)                650       \n",
      "_________________________________________________________________\n",
      "dense_26 (Dense)             (None, 3)                 78        \n",
      "=================================================================\n",
      "Total params: 728\n",
      "Trainable params: 728\n",
      "Non-trainable params: 0\n",
      "_________________________________________________________________\n",
      "Train on 1000 samples, validate on 1000 samples\n",
      "Epoch 1/20\n",
      "1000/1000 [==============================] - 1s 1ms/sample - loss: 0.9101 - acc: 0.6190 - val_loss: 0.6904 - val_acc: 0.7780\n",
      "Epoch 2/20\n",
      "1000/1000 [==============================] - 0s 317us/sample - loss: 0.5563 - acc: 0.8270 - val_loss: 0.4444 - val_acc: 0.8780\n",
      "Epoch 3/20\n",
      "1000/1000 [==============================] - 0s 254us/sample - loss: 0.3624 - acc: 0.9150 - val_loss: 0.2977 - val_acc: 0.9470\n",
      "Epoch 4/20\n",
      "1000/1000 [==============================] - 0s 269us/sample - loss: 0.2451 - acc: 0.9560 - val_loss: 0.2092 - val_acc: 0.9680\n",
      "Epoch 5/20\n",
      "1000/1000 [==============================] - 0s 247us/sample - loss: 0.1723 - acc: 0.9720 - val_loss: 0.1510 - val_acc: 0.9720\n",
      "Epoch 6/20\n",
      "1000/1000 [==============================] - 0s 254us/sample - loss: 0.1276 - acc: 0.9760 - val_loss: 0.1174 - val_acc: 0.9750\n",
      "Epoch 7/20\n",
      "1000/1000 [==============================] - 0s 301us/sample - loss: 0.0993 - acc: 0.9800 - val_loss: 0.0939 - val_acc: 0.9790\n",
      "Epoch 8/20\n",
      "1000/1000 [==============================] - 0s 347us/sample - loss: 0.0798 - acc: 0.9810 - val_loss: 0.0776 - val_acc: 0.9850\n",
      "Epoch 9/20\n",
      "1000/1000 [==============================] - 0s 339us/sample - loss: 0.0661 - acc: 0.9870 - val_loss: 0.0663 - val_acc: 0.9860\n",
      "Epoch 10/20\n",
      "1000/1000 [==============================] - 0s 332us/sample - loss: 0.0554 - acc: 0.9900 - val_loss: 0.0586 - val_acc: 0.9840\n",
      "Epoch 11/20\n",
      "1000/1000 [==============================] - 0s 340us/sample - loss: 0.0474 - acc: 0.9910 - val_loss: 0.0528 - val_acc: 0.9880\n",
      "Epoch 12/20\n",
      "1000/1000 [==============================] - 0s 284us/sample - loss: 0.0420 - acc: 0.9930 - val_loss: 0.0484 - val_acc: 0.9880\n",
      "Epoch 13/20\n",
      "1000/1000 [==============================] - 0s 285us/sample - loss: 0.0373 - acc: 0.9930 - val_loss: 0.0453 - val_acc: 0.9890\n",
      "Epoch 14/20\n",
      "1000/1000 [==============================] - 0s 279us/sample - loss: 0.0333 - acc: 0.9950 - val_loss: 0.0427 - val_acc: 0.9880\n",
      "Epoch 15/20\n",
      "1000/1000 [==============================] - 0s 270us/sample - loss: 0.0304 - acc: 0.9960 - val_loss: 0.0405 - val_acc: 0.9890\n",
      "Epoch 16/20\n",
      "1000/1000 [==============================] - 0s 247us/sample - loss: 0.0279 - acc: 0.9950 - val_loss: 0.0392 - val_acc: 0.9860\n",
      "Epoch 17/20\n",
      "1000/1000 [==============================] - 0s 232us/sample - loss: 0.0258 - acc: 0.9960 - val_loss: 0.0375 - val_acc: 0.9860\n",
      "Epoch 18/20\n",
      "1000/1000 [==============================] - 0s 254us/sample - loss: 0.0239 - acc: 0.9960 - val_loss: 0.0364 - val_acc: 0.9890\n",
      "Epoch 19/20\n",
      "1000/1000 [==============================] - 0s 247us/sample - loss: 0.0226 - acc: 0.9970 - val_loss: 0.0358 - val_acc: 0.9890\n",
      "Epoch 20/20\n",
      "1000/1000 [==============================] - 0s 254us/sample - loss: 0.0211 - acc: 0.9970 - val_loss: 0.0360 - val_acc: 0.9870\n",
      "Test loss: 0.03599215480033308\n",
      "Test accuracy: 0.987\n"
     ]
    },
    {
     "data": {
      "image/png": "[encoded data removed]",
      "text/plain": [
       "<Figure size 432x288 with 1 Axes>"
      ]
     },
     "metadata": {
      "needs_background": "light"
     },
     "output_type": "display_data"
    }
   ],
   "source": [
    "# Build, train and evaluate neural network\n",
    "\n",
    "from tensorflow.keras.models import Sequential\n",
    "from tensorflow.keras.layers import Dense\n",
    "\n",
    "batch_size = 16\n",
    "epochs = 20\n",
    "\n",
    "model = Sequential()\n",
    "model.add(Dense(25, activation='relu', input_shape=(25,)))\n",
    "model.add(Dense(num_classes, activation='softmax'))\n",
    "model.summary()\n",
    "\n",
    "model.compile(loss='categorical_crossentropy',\n",
    "              optimizer='rmsprop',\n",
    "              metrics=['accuracy'])\n",
    "\n",
    "history = model.fit(x_train, y_train,\n",
    "                    batch_size=batch_size,\n",
    "                    epochs=epochs,\n",
    "                    verbose=1,\n",
    "                    validation_data=(x_test, y_test))\n",
    "\n",
    "score = model.evaluate(x_test, y_test, verbose=0)\n",
    "print('Test loss:', score[0])\n",
    "print('Test accuracy:', score[1])\n",
    "\n",
    "history_dict = history.history\n",
    "acc = history.history['acc']\n",
    "val_acc = history.history['val_acc']\n",
    "plt.plot(range(epochs), acc, 'bo', label='Training accuracy')\n",
    "plt.plot(range(epochs), val_acc, 'b', label='Validation accuracy')\n",
    "plt.title('Training and validation accuracy')\n",
    "plt.xlabel('Epochs')\n",
    "plt.ylabel('Accuracy')\n",
    "plt.legend()\n",
    "plt.show()"
   ]
  },
  {
   "cell_type": "markdown",
   "id": "6b80df8f",
   "metadata": {},
   "source": [
    "- Change error probability\n",
    "\n",
    "If p is 0 or if p is 1, no information is lost from the perfect original image. p=0.5 leads to maximum (and complete) information loss.\n",
    "\n",
    "(see overfit example below)"
   ]
  },
  {
   "cell_type": "markdown",
   "id": "54cce6c9",
   "metadata": {},
   "source": [
    "- Overfit?\n",
    "\n",
    "Two examples:"
   ]
  },
  {
   "cell_type": "code",
   "execution_count": 83,
   "id": "29ca59d7",
   "metadata": {},
   "outputs": [
    {
     "name": "stdout",
     "output_type": "stream",
     "text": [
      "Model: \"sequential_12\"\n",
      "_________________________________________________________________\n",
      "Layer (type)                 Output Shape              Param #   \n",
      "=================================================================\n",
      "dense_27 (Dense)             (None, 25)                650       \n",
      "_________________________________________________________________\n",
      "dense_28 (Dense)             (None, 3)                 78        \n",
      "=================================================================\n",
      "Total params: 728\n",
      "Trainable params: 728\n",
      "Non-trainable params: 0\n",
      "_________________________________________________________________\n",
      "Train on 25 samples, validate on 100 samples\n",
      "Epoch 1/100\n",
      "25/25 [==============================] - 1s 34ms/sample - loss: 0.9974 - acc: 0.6800 - val_loss: 1.0427 - val_acc: 0.5300\n",
      "Epoch 2/100\n",
      "25/25 [==============================] - 0s 1ms/sample - loss: 0.9365 - acc: 0.7200 - val_loss: 1.0210 - val_acc: 0.5300\n",
      "Epoch 3/100\n",
      "25/25 [==============================] - 0s 1ms/sample - loss: 0.8986 - acc: 0.7200 - val_loss: 1.0044 - val_acc: 0.5500\n",
      "Epoch 4/100\n",
      "25/25 [==============================] - 0s 2ms/sample - loss: 0.8655 - acc: 0.7200 - val_loss: 0.9894 - val_acc: 0.5700\n",
      "Epoch 5/100\n",
      "25/25 [==============================] - 0s 1ms/sample - loss: 0.8369 - acc: 0.7600 - val_loss: 0.9760 - val_acc: 0.5800\n",
      "Epoch 6/100\n",
      "25/25 [==============================] - 0s 1ms/sample - loss: 0.8138 - acc: 0.7600 - val_loss: 0.9639 - val_acc: 0.5900\n",
      "Epoch 7/100\n",
      "25/25 [==============================] - 0s 2ms/sample - loss: 0.7913 - acc: 0.7600 - val_loss: 0.9521 - val_acc: 0.5900\n",
      "Epoch 8/100\n",
      "25/25 [==============================] - 0s 1ms/sample - loss: 0.7697 - acc: 0.8000 - val_loss: 0.9398 - val_acc: 0.5900\n",
      "Epoch 9/100\n",
      "25/25 [==============================] - 0s 2ms/sample - loss: 0.7490 - acc: 0.8000 - val_loss: 0.9290 - val_acc: 0.5900\n",
      "Epoch 10/100\n",
      "25/25 [==============================] - 0s 886us/sample - loss: 0.7302 - acc: 0.8000 - val_loss: 0.9187 - val_acc: 0.6100\n",
      "Epoch 11/100\n",
      "25/25 [==============================] - 0s 625us/sample - loss: 0.7119 - acc: 0.8000 - val_loss: 0.9088 - val_acc: 0.6100\n",
      "Epoch 12/100\n",
      "25/25 [==============================] - 0s 1ms/sample - loss: 0.6938 - acc: 0.8000 - val_loss: 0.8987 - val_acc: 0.6100\n",
      "Epoch 13/100\n",
      "25/25 [==============================] - 0s 886us/sample - loss: 0.6772 - acc: 0.8000 - val_loss: 0.8887 - val_acc: 0.6200\n",
      "Epoch 14/100\n",
      "25/25 [==============================] - 0s 948us/sample - loss: 0.6621 - acc: 0.8000 - val_loss: 0.8796 - val_acc: 0.6200\n",
      "Epoch 15/100\n",
      "25/25 [==============================] - ETA: 0s - loss: 0.6619 - acc: 0.812 - 0s 1ms/sample - loss: 0.6453 - acc: 0.8000 - val_loss: 0.8702 - val_acc: 0.6200\n",
      "Epoch 16/100\n",
      "25/25 [==============================] - 0s 1ms/sample - loss: 0.6305 - acc: 0.8000 - val_loss: 0.8614 - val_acc: 0.6200\n",
      "Epoch 17/100\n",
      "25/25 [==============================] - 0s 1ms/sample - loss: 0.6164 - acc: 0.8000 - val_loss: 0.8521 - val_acc: 0.6300\n",
      "Epoch 18/100\n",
      "25/25 [==============================] - 0s 625us/sample - loss: 0.6021 - acc: 0.8000 - val_loss: 0.8435 - val_acc: 0.6300\n",
      "Epoch 19/100\n",
      "25/25 [==============================] - 0s 886us/sample - loss: 0.5885 - acc: 0.8000 - val_loss: 0.8351 - val_acc: 0.6300\n",
      "Epoch 20/100\n",
      "25/25 [==============================] - 0s 1ms/sample - loss: 0.5761 - acc: 0.8000 - val_loss: 0.8263 - val_acc: 0.6300\n",
      "Epoch 21/100\n",
      "25/25 [==============================] - 0s 1ms/sample - loss: 0.5637 - acc: 0.8000 - val_loss: 0.8177 - val_acc: 0.6300\n",
      "Epoch 22/100\n",
      "25/25 [==============================] - 0s 626us/sample - loss: 0.5515 - acc: 0.8000 - val_loss: 0.8098 - val_acc: 0.6300\n",
      "Epoch 23/100\n",
      "25/25 [==============================] - 0s 1ms/sample - loss: 0.5397 - acc: 0.8000 - val_loss: 0.8020 - val_acc: 0.6400\n",
      "Epoch 24/100\n",
      "25/25 [==============================] - 0s 1ms/sample - loss: 0.5282 - acc: 0.8000 - val_loss: 0.7935 - val_acc: 0.6400\n",
      "Epoch 25/100\n",
      "25/25 [==============================] - 0s 1ms/sample - loss: 0.5169 - acc: 0.8000 - val_loss: 0.7860 - val_acc: 0.6400\n",
      "Epoch 26/100\n",
      "25/25 [==============================] - 0s 1ms/sample - loss: 0.5070 - acc: 0.8000 - val_loss: 0.7787 - val_acc: 0.6400\n",
      "Epoch 27/100\n",
      "25/25 [==============================] - 0s 886us/sample - loss: 0.4963 - acc: 0.8000 - val_loss: 0.7712 - val_acc: 0.6400\n",
      "Epoch 28/100\n",
      "25/25 [==============================] - 0s 1ms/sample - loss: 0.4865 - acc: 0.8000 - val_loss: 0.7635 - val_acc: 0.6400\n",
      "Epoch 29/100\n",
      "25/25 [==============================] - 0s 2ms/sample - loss: 0.4773 - acc: 0.8000 - val_loss: 0.7569 - val_acc: 0.6400\n",
      "Epoch 30/100\n",
      "25/25 [==============================] - 0s 1ms/sample - loss: 0.4669 - acc: 0.8000 - val_loss: 0.7497 - val_acc: 0.6400\n",
      "Epoch 31/100\n",
      "25/25 [==============================] - 0s 1ms/sample - loss: 0.4578 - acc: 0.8000 - val_loss: 0.7432 - val_acc: 0.6400\n",
      "Epoch 32/100\n",
      "25/25 [==============================] - 0s 1ms/sample - loss: 0.4500 - acc: 0.8000 - val_loss: 0.7359 - val_acc: 0.6400\n",
      "Epoch 33/100\n",
      "25/25 [==============================] - 0s 886us/sample - loss: 0.4406 - acc: 0.8000 - val_loss: 0.7295 - val_acc: 0.6400\n",
      "Epoch 34/100\n",
      "25/25 [==============================] - 0s 1ms/sample - loss: 0.4336 - acc: 0.8000 - val_loss: 0.7239 - val_acc: 0.6400\n",
      "Epoch 35/100\n",
      "25/25 [==============================] - 0s 1ms/sample - loss: 0.4247 - acc: 0.8000 - val_loss: 0.7182 - val_acc: 0.6400\n",
      "Epoch 36/100\n",
      "25/25 [==============================] - 0s 1ms/sample - loss: 0.4175 - acc: 0.8000 - val_loss: 0.7115 - val_acc: 0.6700\n",
      "Epoch 37/100\n",
      "25/25 [==============================] - 0s 1ms/sample - loss: 0.4100 - acc: 0.8000 - val_loss: 0.7055 - val_acc: 0.6700\n",
      "Epoch 38/100\n",
      "25/25 [==============================] - 0s 2ms/sample - loss: 0.4050 - acc: 0.8000 - val_loss: 0.6992 - val_acc: 0.6700\n",
      "Epoch 39/100\n",
      "25/25 [==============================] - 0s 1ms/sample - loss: 0.3966 - acc: 0.8000 - val_loss: 0.6934 - val_acc: 0.6700\n",
      "Epoch 40/100\n",
      "25/25 [==============================] - 0s 1ms/sample - loss: 0.3899 - acc: 0.8000 - val_loss: 0.6888 - val_acc: 0.6800\n",
      "Epoch 41/100\n",
      "25/25 [==============================] - 0s 2ms/sample - loss: 0.3832 - acc: 0.8000 - val_loss: 0.6834 - val_acc: 0.6800\n",
      "Epoch 42/100\n",
      "25/25 [==============================] - 0s 1ms/sample - loss: 0.3781 - acc: 0.8000 - val_loss: 0.6776 - val_acc: 0.6800\n",
      "Epoch 43/100\n",
      "25/25 [==============================] - 0s 2ms/sample - loss: 0.3711 - acc: 0.8000 - val_loss: 0.6719 - val_acc: 0.6800\n",
      "Epoch 44/100\n",
      "25/25 [==============================] - 0s 625us/sample - loss: 0.3650 - acc: 0.8000 - val_loss: 0.6671 - val_acc: 0.6800\n",
      "Epoch 45/100\n",
      "25/25 [==============================] - 0s 1ms/sample - loss: 0.3590 - acc: 0.8000 - val_loss: 0.6618 - val_acc: 0.6800\n",
      "Epoch 46/100\n",
      "25/25 [==============================] - 0s 2ms/sample - loss: 0.3547 - acc: 0.8000 - val_loss: 0.6574 - val_acc: 0.6800\n",
      "Epoch 47/100\n",
      "25/25 [==============================] - 0s 1ms/sample - loss: 0.3483 - acc: 0.8000 - val_loss: 0.6533 - val_acc: 0.6800\n",
      "Epoch 48/100\n",
      "25/25 [==============================] - 0s 1ms/sample - loss: 0.3431 - acc: 0.8000 - val_loss: 0.6487 - val_acc: 0.6800\n",
      "Epoch 49/100\n",
      "25/25 [==============================] - 0s 1ms/sample - loss: 0.3381 - acc: 0.8000 - val_loss: 0.6442 - val_acc: 0.6800\n",
      "Epoch 50/100\n",
      "25/25 [==============================] - 0s 1ms/sample - loss: 0.3328 - acc: 0.8000 - val_loss: 0.6398 - val_acc: 0.6800\n",
      "Epoch 51/100\n",
      "25/25 [==============================] - 0s 1ms/sample - loss: 0.3277 - acc: 0.8000 - val_loss: 0.6352 - val_acc: 0.6800\n",
      "Epoch 52/100\n",
      "25/25 [==============================] - 0s 1ms/sample - loss: 0.3229 - acc: 0.8000 - val_loss: 0.6297 - val_acc: 0.6800\n",
      "Epoch 53/100\n",
      "25/25 [==============================] - 0s 886us/sample - loss: 0.3178 - acc: 0.8000 - val_loss: 0.6254 - val_acc: 0.6800\n",
      "Epoch 54/100\n",
      "25/25 [==============================] - 0s 625us/sample - loss: 0.3131 - acc: 0.8000 - val_loss: 0.6212 - val_acc: 0.6800\n",
      "Epoch 55/100\n",
      "25/25 [==============================] - 0s 625us/sample - loss: 0.3090 - acc: 0.8000 - val_loss: 0.6175 - val_acc: 0.6800\n",
      "Epoch 56/100\n",
      "25/25 [==============================] - 0s 886us/sample - loss: 0.3045 - acc: 0.8000 - val_loss: 0.6121 - val_acc: 0.6800\n"
     ]
    },
    {
     "name": "stdout",
     "output_type": "stream",
     "text": [
      "Epoch 57/100\n",
      "25/25 [==============================] - 0s 1ms/sample - loss: 0.2994 - acc: 0.8000 - val_loss: 0.6077 - val_acc: 0.6800\n",
      "Epoch 58/100\n",
      "25/25 [==============================] - 0s 1ms/sample - loss: 0.2952 - acc: 0.8000 - val_loss: 0.6022 - val_acc: 0.6800\n",
      "Epoch 59/100\n",
      "25/25 [==============================] - 0s 886us/sample - loss: 0.2902 - acc: 0.8000 - val_loss: 0.5982 - val_acc: 0.6800\n",
      "Epoch 60/100\n",
      "25/25 [==============================] - 0s 625us/sample - loss: 0.2861 - acc: 0.8000 - val_loss: 0.5944 - val_acc: 0.6800\n",
      "Epoch 61/100\n",
      "25/25 [==============================] - 0s 625us/sample - loss: 0.2823 - acc: 0.8000 - val_loss: 0.5905 - val_acc: 0.6800\n",
      "Epoch 62/100\n",
      "25/25 [==============================] - 0s 886us/sample - loss: 0.2781 - acc: 0.8400 - val_loss: 0.5870 - val_acc: 0.6800\n",
      "Epoch 63/100\n",
      "25/25 [==============================] - 0s 1ms/sample - loss: 0.2743 - acc: 0.8400 - val_loss: 0.5831 - val_acc: 0.6800\n",
      "Epoch 64/100\n",
      "25/25 [==============================] - 0s 625us/sample - loss: 0.2700 - acc: 0.8800 - val_loss: 0.5783 - val_acc: 0.6900\n",
      "Epoch 65/100\n",
      "25/25 [==============================] - 0s 886us/sample - loss: 0.2658 - acc: 0.8800 - val_loss: 0.5733 - val_acc: 0.6900\n",
      "Epoch 66/100\n",
      "25/25 [==============================] - 0s 2ms/sample - loss: 0.2614 - acc: 0.8800 - val_loss: 0.5702 - val_acc: 0.6900\n",
      "Epoch 67/100\n",
      "25/25 [==============================] - 0s 1ms/sample - loss: 0.2576 - acc: 0.8800 - val_loss: 0.5657 - val_acc: 0.6900\n",
      "Epoch 68/100\n",
      "25/25 [==============================] - 0s 2ms/sample - loss: 0.2534 - acc: 0.8800 - val_loss: 0.5611 - val_acc: 0.7000\n",
      "Epoch 69/100\n",
      "25/25 [==============================] - 0s 2ms/sample - loss: 0.2499 - acc: 0.8800 - val_loss: 0.5564 - val_acc: 0.7000\n",
      "Epoch 70/100\n",
      "25/25 [==============================] - 0s 2ms/sample - loss: 0.2456 - acc: 0.8800 - val_loss: 0.5533 - val_acc: 0.7000\n",
      "Epoch 71/100\n",
      "25/25 [==============================] - 0s 1ms/sample - loss: 0.2413 - acc: 0.8800 - val_loss: 0.5501 - val_acc: 0.7000\n",
      "Epoch 72/100\n",
      "25/25 [==============================] - 0s 1ms/sample - loss: 0.2382 - acc: 0.8800 - val_loss: 0.5453 - val_acc: 0.7000\n",
      "Epoch 73/100\n",
      "25/25 [==============================] - 0s 1ms/sample - loss: 0.2338 - acc: 0.8800 - val_loss: 0.5416 - val_acc: 0.7000\n",
      "Epoch 74/100\n",
      "25/25 [==============================] - 0s 1ms/sample - loss: 0.2299 - acc: 0.8800 - val_loss: 0.5383 - val_acc: 0.7000\n",
      "Epoch 75/100\n",
      "25/25 [==============================] - 0s 1ms/sample - loss: 0.2267 - acc: 0.9200 - val_loss: 0.5359 - val_acc: 0.7100\n",
      "Epoch 76/100\n",
      "25/25 [==============================] - 0s 1ms/sample - loss: 0.2244 - acc: 0.9200 - val_loss: 0.5330 - val_acc: 0.7100\n",
      "Epoch 77/100\n",
      "25/25 [==============================] - 0s 2ms/sample - loss: 0.2214 - acc: 0.8800 - val_loss: 0.5295 - val_acc: 0.7100\n",
      "Epoch 78/100\n",
      "25/25 [==============================] - 0s 2ms/sample - loss: 0.2171 - acc: 0.9200 - val_loss: 0.5276 - val_acc: 0.7100\n",
      "Epoch 79/100\n",
      "25/25 [==============================] - 0s 1ms/sample - loss: 0.2139 - acc: 0.9200 - val_loss: 0.5241 - val_acc: 0.7100\n",
      "Epoch 80/100\n",
      "25/25 [==============================] - 0s 2ms/sample - loss: 0.2105 - acc: 0.9200 - val_loss: 0.5208 - val_acc: 0.7300\n",
      "Epoch 81/100\n",
      "25/25 [==============================] - 0s 1ms/sample - loss: 0.2071 - acc: 0.9200 - val_loss: 0.5161 - val_acc: 0.7300\n",
      "Epoch 82/100\n",
      "25/25 [==============================] - 0s 1ms/sample - loss: 0.2029 - acc: 0.9200 - val_loss: 0.5128 - val_acc: 0.7300\n",
      "Epoch 83/100\n",
      "25/25 [==============================] - 0s 2ms/sample - loss: 0.1997 - acc: 0.9200 - val_loss: 0.5111 - val_acc: 0.7300\n",
      "Epoch 84/100\n",
      "25/25 [==============================] - 0s 1ms/sample - loss: 0.1968 - acc: 0.9200 - val_loss: 0.5067 - val_acc: 0.7300\n",
      "Epoch 85/100\n",
      "25/25 [==============================] - 0s 1ms/sample - loss: 0.1934 - acc: 0.9600 - val_loss: 0.5042 - val_acc: 0.7400\n",
      "Epoch 86/100\n",
      "25/25 [==============================] - 0s 886us/sample - loss: 0.1908 - acc: 0.9600 - val_loss: 0.5015 - val_acc: 0.7500\n",
      "Epoch 87/100\n",
      "25/25 [==============================] - 0s 1ms/sample - loss: 0.1880 - acc: 0.9600 - val_loss: 0.4992 - val_acc: 0.7500\n",
      "Epoch 88/100\n",
      "25/25 [==============================] - 0s 1ms/sample - loss: 0.1848 - acc: 0.9600 - val_loss: 0.4970 - val_acc: 0.7500\n",
      "Epoch 89/100\n",
      "25/25 [==============================] - 0s 886us/sample - loss: 0.1818 - acc: 0.9600 - val_loss: 0.4935 - val_acc: 0.7500\n",
      "Epoch 90/100\n",
      "25/25 [==============================] - 0s 1ms/sample - loss: 0.1786 - acc: 0.9600 - val_loss: 0.4895 - val_acc: 0.7600\n",
      "Epoch 91/100\n",
      "25/25 [==============================] - 0s 1ms/sample - loss: 0.1754 - acc: 0.9600 - val_loss: 0.4861 - val_acc: 0.7600\n",
      "Epoch 92/100\n",
      "25/25 [==============================] - 0s 886us/sample - loss: 0.1721 - acc: 0.9600 - val_loss: 0.4836 - val_acc: 0.7600\n",
      "Epoch 93/100\n",
      "25/25 [==============================] - 0s 1ms/sample - loss: 0.1693 - acc: 0.9600 - val_loss: 0.4812 - val_acc: 0.7600\n",
      "Epoch 94/100\n",
      "25/25 [==============================] - 0s 1ms/sample - loss: 0.1665 - acc: 1.0000 - val_loss: 0.4788 - val_acc: 0.7600\n",
      "Epoch 95/100\n",
      "25/25 [==============================] - 0s 886us/sample - loss: 0.1637 - acc: 1.0000 - val_loss: 0.4761 - val_acc: 0.7600\n",
      "Epoch 96/100\n",
      "25/25 [==============================] - 0s 1ms/sample - loss: 0.1608 - acc: 1.0000 - val_loss: 0.4729 - val_acc: 0.7600\n",
      "Epoch 97/100\n",
      "25/25 [==============================] - 0s 1ms/sample - loss: 0.1578 - acc: 1.0000 - val_loss: 0.4702 - val_acc: 0.7600\n",
      "Epoch 98/100\n",
      "25/25 [==============================] - 0s 886us/sample - loss: 0.1549 - acc: 1.0000 - val_loss: 0.4677 - val_acc: 0.7600\n",
      "Epoch 99/100\n",
      "25/25 [==============================] - 0s 1ms/sample - loss: 0.1526 - acc: 1.0000 - val_loss: 0.4632 - val_acc: 0.7600\n",
      "Epoch 100/100\n",
      "25/25 [==============================] - 0s 1ms/sample - loss: 0.1493 - acc: 1.0000 - val_loss: 0.4613 - val_acc: 0.7600\n",
      "Test loss: 0.4612903118133545\n",
      "Test accuracy: 0.76\n"
     ]
    },
    {
     "data": {
      "image/png": "[encoded data removed]",
      "text/plain": [
       "<Figure size 432x288 with 1 Axes>"
      ]
     },
     "metadata": {
      "needs_background": "light"
     },
     "output_type": "display_data"
    }
   ],
   "source": [
    "# 1. reduce sample size and increase epochs\n",
    "\n",
    "# create train and test data (with checkmark, x or empty)\n",
    "y_train = np.random.randint(-1, 2, size=25)\n",
    "x_train = [modify(y).reshape((25,1)) for y in y_train] # list of 100 images following y_train\n",
    "\n",
    "y_test = np.random.randint(-1, 2, size=100)\n",
    "x_test = [modify(y).reshape((25,1)) for y in y_test] \n",
    "\n",
    "y_train = np.array(y_train).reshape(25, 1)\n",
    "y_test = np.array(y_test).reshape(100, 1)\n",
    "\n",
    "y_train = keras.utils.to_categorical(y_train, num_classes)\n",
    "y_test = keras.utils.to_categorical(y_test, num_classes)\n",
    "\n",
    "x_train = np.array(x_train).reshape(25, 25)\n",
    "x_test = np.array(x_test).reshape(100, 25)\n",
    "\n",
    "# Build, train and evaluate neural network\n",
    "\n",
    "from tensorflow.keras.models import Sequential\n",
    "from tensorflow.keras.layers import Dense\n",
    "\n",
    "batch_size = 16\n",
    "epochs = 100\n",
    "\n",
    "model = Sequential()\n",
    "model.add(Dense(25, activation='relu', input_shape=(25,)))\n",
    "model.add(Dense(num_classes, activation='softmax'))\n",
    "model.summary()\n",
    "\n",
    "model.compile(loss='categorical_crossentropy',\n",
    "              optimizer='rmsprop',\n",
    "              metrics=['accuracy'])\n",
    "\n",
    "history = model.fit(x_train, y_train,\n",
    "                    batch_size=batch_size,\n",
    "                    epochs=epochs,\n",
    "                    verbose=1,\n",
    "                    validation_data=(x_test, y_test))\n",
    "\n",
    "score = model.evaluate(x_test, y_test, verbose=0)\n",
    "print('Test loss:', score[0])\n",
    "print('Test accuracy:', score[1])\n",
    "\n",
    "history_dict = history.history\n",
    "acc = history.history['acc']\n",
    "val_acc = history.history['val_acc']\n",
    "plt.plot(range(epochs), acc, 'bo', label='Training accuracy')\n",
    "plt.plot(range(epochs), val_acc, 'b', label='Validation accuracy')\n",
    "plt.title('Training and validation accuracy')\n",
    "plt.xlabel('Epochs')\n",
    "plt.ylabel('Accuracy')\n",
    "plt.legend()\n",
    "plt.show()"
   ]
  },
  {
   "cell_type": "code",
   "execution_count": 84,
   "id": "0b04d186",
   "metadata": {},
   "outputs": [
    {
     "name": "stdout",
     "output_type": "stream",
     "text": [
      "Model: \"sequential_13\"\n",
      "_________________________________________________________________\n",
      "Layer (type)                 Output Shape              Param #   \n",
      "=================================================================\n",
      "dense_29 (Dense)             (None, 25)                650       \n",
      "_________________________________________________________________\n",
      "dense_30 (Dense)             (None, 3)                 78        \n",
      "=================================================================\n",
      "Total params: 728\n",
      "Trainable params: 728\n",
      "Non-trainable params: 0\n",
      "_________________________________________________________________\n",
      "Train on 100 samples, validate on 100 samples\n",
      "Epoch 1/100\n",
      "100/100 [==============================] - 1s 9ms/sample - loss: 1.1274 - acc: 0.4500 - val_loss: 1.2761 - val_acc: 0.3100\n",
      "Epoch 2/100\n",
      "100/100 [==============================] - 0s 413us/sample - loss: 1.0976 - acc: 0.4400 - val_loss: 1.2758 - val_acc: 0.3200\n",
      "Epoch 3/100\n",
      "100/100 [==============================] - 0s 469us/sample - loss: 1.0855 - acc: 0.4500 - val_loss: 1.2664 - val_acc: 0.3100\n",
      "Epoch 4/100\n",
      "100/100 [==============================] - 0s 378us/sample - loss: 1.0755 - acc: 0.4700 - val_loss: 1.2636 - val_acc: 0.2900\n",
      "Epoch 5/100\n",
      "100/100 [==============================] - 0s 469us/sample - loss: 1.0662 - acc: 0.4800 - val_loss: 1.2648 - val_acc: 0.2900\n",
      "Epoch 6/100\n",
      "100/100 [==============================] - 0s 378us/sample - loss: 1.0590 - acc: 0.4700 - val_loss: 1.2703 - val_acc: 0.3000\n",
      "Epoch 7/100\n",
      "100/100 [==============================] - 0s 313us/sample - loss: 1.0499 - acc: 0.4700 - val_loss: 1.2655 - val_acc: 0.2900\n",
      "Epoch 8/100\n",
      "100/100 [==============================] - 0s 378us/sample - loss: 1.0415 - acc: 0.5100 - val_loss: 1.2704 - val_acc: 0.2900\n",
      "Epoch 9/100\n",
      "100/100 [==============================] - 0s 469us/sample - loss: 1.0354 - acc: 0.5000 - val_loss: 1.2701 - val_acc: 0.2900\n",
      "Epoch 10/100\n",
      "100/100 [==============================] - 0s 534us/sample - loss: 1.0276 - acc: 0.4800 - val_loss: 1.2629 - val_acc: 0.2800\n",
      "Epoch 11/100\n",
      "100/100 [==============================] - 0s 469us/sample - loss: 1.0228 - acc: 0.5200 - val_loss: 1.2665 - val_acc: 0.2800\n",
      "Epoch 12/100\n",
      "100/100 [==============================] - 0s 378us/sample - loss: 1.0139 - acc: 0.5200 - val_loss: 1.2639 - val_acc: 0.2600\n",
      "Epoch 13/100\n",
      "100/100 [==============================] - 0s 469us/sample - loss: 1.0079 - acc: 0.5200 - val_loss: 1.2603 - val_acc: 0.2700\n",
      "Epoch 14/100\n",
      "100/100 [==============================] - 0s 378us/sample - loss: 1.0058 - acc: 0.5100 - val_loss: 1.2633 - val_acc: 0.2800\n",
      "Epoch 15/100\n",
      "100/100 [==============================] - 0s 565us/sample - loss: 0.9972 - acc: 0.5400 - val_loss: 1.2724 - val_acc: 0.2700\n",
      "Epoch 16/100\n",
      "100/100 [==============================] - 0s 438us/sample - loss: 0.9928 - acc: 0.5500 - val_loss: 1.2680 - val_acc: 0.2600\n",
      "Epoch 17/100\n",
      "100/100 [==============================] - 0s 469us/sample - loss: 0.9874 - acc: 0.5200 - val_loss: 1.2730 - val_acc: 0.2800\n",
      "Epoch 18/100\n",
      "100/100 [==============================] - 0s 378us/sample - loss: 0.9805 - acc: 0.5300 - val_loss: 1.2740 - val_acc: 0.2800\n",
      "Epoch 19/100\n",
      "100/100 [==============================] - 0s 469us/sample - loss: 0.9773 - acc: 0.5100 - val_loss: 1.2719 - val_acc: 0.2600\n",
      "Epoch 20/100\n",
      "100/100 [==============================] - 0s 534us/sample - loss: 0.9704 - acc: 0.5400 - val_loss: 1.2736 - val_acc: 0.2700\n",
      "Epoch 21/100\n",
      "100/100 [==============================] - 0s 469us/sample - loss: 0.9647 - acc: 0.5500 - val_loss: 1.2768 - val_acc: 0.2700\n",
      "Epoch 22/100\n",
      "100/100 [==============================] - 0s 534us/sample - loss: 0.9602 - acc: 0.5400 - val_loss: 1.2705 - val_acc: 0.2700\n",
      "Epoch 23/100\n",
      "100/100 [==============================] - 0s 625us/sample - loss: 0.9556 - acc: 0.5900 - val_loss: 1.2840 - val_acc: 0.2600\n",
      "Epoch 24/100\n",
      "100/100 [==============================] - 0s 534us/sample - loss: 0.9496 - acc: 0.5600 - val_loss: 1.2907 - val_acc: 0.2600\n",
      "Epoch 25/100\n",
      "100/100 [==============================] - 0s 469us/sample - loss: 0.9464 - acc: 0.5600 - val_loss: 1.2942 - val_acc: 0.2600\n",
      "Epoch 26/100\n",
      "100/100 [==============================] - 0s 534us/sample - loss: 0.9427 - acc: 0.5500 - val_loss: 1.2870 - val_acc: 0.2600\n",
      "Epoch 27/100\n",
      "100/100 [==============================] - 0s 469us/sample - loss: 0.9350 - acc: 0.5800 - val_loss: 1.2790 - val_acc: 0.2900\n",
      "Epoch 28/100\n",
      "100/100 [==============================] - 0s 534us/sample - loss: 0.9303 - acc: 0.5900 - val_loss: 1.2784 - val_acc: 0.2700\n",
      "Epoch 29/100\n",
      "100/100 [==============================] - 0s 534us/sample - loss: 0.9279 - acc: 0.6100 - val_loss: 1.2739 - val_acc: 0.2800\n",
      "Epoch 30/100\n",
      "100/100 [==============================] - 0s 469us/sample - loss: 0.9225 - acc: 0.6000 - val_loss: 1.2791 - val_acc: 0.2800\n",
      "Epoch 31/100\n",
      "100/100 [==============================] - 0s 534us/sample - loss: 0.9180 - acc: 0.6100 - val_loss: 1.2839 - val_acc: 0.2600\n",
      "Epoch 32/100\n",
      "100/100 [==============================] - 0s 469us/sample - loss: 0.9131 - acc: 0.6000 - val_loss: 1.2873 - val_acc: 0.2600\n",
      "Epoch 33/100\n",
      "100/100 [==============================] - 0s 534us/sample - loss: 0.9094 - acc: 0.6000 - val_loss: 1.2855 - val_acc: 0.2800\n",
      "Epoch 34/100\n",
      "100/100 [==============================] - 0s 469us/sample - loss: 0.9058 - acc: 0.6100 - val_loss: 1.2910 - val_acc: 0.2700\n",
      "Epoch 35/100\n",
      "100/100 [==============================] - 0s 378us/sample - loss: 0.9012 - acc: 0.6000 - val_loss: 1.2968 - val_acc: 0.2600\n",
      "Epoch 36/100\n",
      "100/100 [==============================] - 0s 469us/sample - loss: 0.8970 - acc: 0.6200 - val_loss: 1.3000 - val_acc: 0.2600\n",
      "Epoch 37/100\n",
      "100/100 [==============================] - 0s 378us/sample - loss: 0.8933 - acc: 0.6100 - val_loss: 1.3000 - val_acc: 0.2600\n",
      "Epoch 38/100\n",
      "100/100 [==============================] - 0s 469us/sample - loss: 0.8878 - acc: 0.6300 - val_loss: 1.3050 - val_acc: 0.2600\n",
      "Epoch 39/100\n",
      "100/100 [==============================] - 0s 500us/sample - loss: 0.8830 - acc: 0.6200 - val_loss: 1.2982 - val_acc: 0.2500\n",
      "Epoch 40/100\n",
      "100/100 [==============================] - 0s 313us/sample - loss: 0.8790 - acc: 0.6500 - val_loss: 1.2936 - val_acc: 0.2400\n",
      "Epoch 41/100\n",
      "100/100 [==============================] - 0s 313us/sample - loss: 0.8748 - acc: 0.6500 - val_loss: 1.2974 - val_acc: 0.2400\n",
      "Epoch 42/100\n",
      "100/100 [==============================] - 0s 534us/sample - loss: 0.8698 - acc: 0.6500 - val_loss: 1.3039 - val_acc: 0.2500\n",
      "Epoch 43/100\n",
      "100/100 [==============================] - 0s 469us/sample - loss: 0.8694 - acc: 0.6500 - val_loss: 1.2961 - val_acc: 0.2700\n",
      "Epoch 44/100\n",
      "100/100 [==============================] - 0s 378us/sample - loss: 0.8623 - acc: 0.6600 - val_loss: 1.3021 - val_acc: 0.2600\n",
      "Epoch 45/100\n",
      "100/100 [==============================] - 0s 479us/sample - loss: 0.8601 - acc: 0.6400 - val_loss: 1.2975 - val_acc: 0.2600\n",
      "Epoch 46/100\n",
      "100/100 [==============================] - ETA: 0s - loss: 0.9954 - acc: 0.500 - 0s 363us/sample - loss: 0.8550 - acc: 0.6700 - val_loss: 1.2987 - val_acc: 0.2600\n",
      "Epoch 47/100\n",
      "100/100 [==============================] - ETA: 0s - loss: 0.7801 - acc: 0.750 - 0s 313us/sample - loss: 0.8522 - acc: 0.6500 - val_loss: 1.3051 - val_acc: 0.2500\n",
      "Epoch 48/100\n",
      "100/100 [==============================] - 0s 378us/sample - loss: 0.8471 - acc: 0.6600 - val_loss: 1.3040 - val_acc: 0.2400\n",
      "Epoch 49/100\n",
      "100/100 [==============================] - 0s 469us/sample - loss: 0.8439 - acc: 0.6600 - val_loss: 1.3065 - val_acc: 0.2400\n",
      "Epoch 50/100\n",
      "100/100 [==============================] - 0s 469us/sample - loss: 0.8396 - acc: 0.6800 - val_loss: 1.3171 - val_acc: 0.2400\n",
      "Epoch 51/100\n",
      "100/100 [==============================] - 0s 378us/sample - loss: 0.8353 - acc: 0.6700 - val_loss: 1.3163 - val_acc: 0.2500\n",
      "Epoch 52/100\n",
      "100/100 [==============================] - 0s 469us/sample - loss: 0.8309 - acc: 0.6800 - val_loss: 1.3166 - val_acc: 0.2300\n",
      "Epoch 53/100\n",
      "100/100 [==============================] - 0s 378us/sample - loss: 0.8271 - acc: 0.6800 - val_loss: 1.3222 - val_acc: 0.2400\n",
      "Epoch 54/100\n",
      "100/100 [==============================] - 0s 469us/sample - loss: 0.8242 - acc: 0.6900 - val_loss: 1.3202 - val_acc: 0.2400\n",
      "Epoch 55/100\n"
     ]
    },
    {
     "name": "stdout",
     "output_type": "stream",
     "text": [
      "100/100 [==============================] - 0s 378us/sample - loss: 0.8196 - acc: 0.6900 - val_loss: 1.3292 - val_acc: 0.2600\n",
      "Epoch 56/100\n",
      "100/100 [==============================] - 0s 313us/sample - loss: 0.8144 - acc: 0.7000 - val_loss: 1.3273 - val_acc: 0.2300\n",
      "Epoch 57/100\n",
      "100/100 [==============================] - 0s 378us/sample - loss: 0.8085 - acc: 0.6800 - val_loss: 1.3381 - val_acc: 0.2400\n",
      "Epoch 58/100\n",
      "100/100 [==============================] - 0s 313us/sample - loss: 0.8089 - acc: 0.7000 - val_loss: 1.3234 - val_acc: 0.2500\n",
      "Epoch 59/100\n",
      "100/100 [==============================] - 0s 313us/sample - loss: 0.8021 - acc: 0.7000 - val_loss: 1.3261 - val_acc: 0.2500\n",
      "Epoch 60/100\n",
      "100/100 [==============================] - 0s 378us/sample - loss: 0.8008 - acc: 0.7000 - val_loss: 1.3330 - val_acc: 0.2600\n",
      "Epoch 61/100\n",
      "100/100 [==============================] - 0s 469us/sample - loss: 0.7952 - acc: 0.6900 - val_loss: 1.3263 - val_acc: 0.2500\n",
      "Epoch 62/100\n",
      "100/100 [==============================] - 0s 378us/sample - loss: 0.7941 - acc: 0.6800 - val_loss: 1.3313 - val_acc: 0.2500\n",
      "Epoch 63/100\n",
      "100/100 [==============================] - 0s 469us/sample - loss: 0.7881 - acc: 0.6900 - val_loss: 1.3378 - val_acc: 0.2500\n",
      "Epoch 64/100\n",
      "100/100 [==============================] - 0s 378us/sample - loss: 0.7846 - acc: 0.6900 - val_loss: 1.3421 - val_acc: 0.2600\n",
      "Epoch 65/100\n",
      "100/100 [==============================] - 0s 313us/sample - loss: 0.7808 - acc: 0.6800 - val_loss: 1.3401 - val_acc: 0.2500\n",
      "Epoch 66/100\n",
      "100/100 [==============================] - 0s 378us/sample - loss: 0.7759 - acc: 0.7000 - val_loss: 1.3494 - val_acc: 0.2500\n",
      "Epoch 67/100\n",
      "100/100 [==============================] - 0s 469us/sample - loss: 0.7735 - acc: 0.6900 - val_loss: 1.3383 - val_acc: 0.2500\n",
      "Epoch 68/100\n",
      "100/100 [==============================] - 0s 534us/sample - loss: 0.7692 - acc: 0.7100 - val_loss: 1.3513 - val_acc: 0.2500\n",
      "Epoch 69/100\n",
      "100/100 [==============================] - 0s 469us/sample - loss: 0.7665 - acc: 0.7200 - val_loss: 1.3667 - val_acc: 0.2500\n",
      "Epoch 70/100\n",
      "100/100 [==============================] - 0s 534us/sample - loss: 0.7638 - acc: 0.7100 - val_loss: 1.3721 - val_acc: 0.2500\n",
      "Epoch 71/100\n",
      "100/100 [==============================] - 0s 625us/sample - loss: 0.7581 - acc: 0.7100 - val_loss: 1.3714 - val_acc: 0.2400\n",
      "Epoch 72/100\n",
      "100/100 [==============================] - 0s 378us/sample - loss: 0.7564 - acc: 0.7100 - val_loss: 1.3741 - val_acc: 0.2400\n",
      "Epoch 73/100\n",
      "100/100 [==============================] - 0s 534us/sample - loss: 0.7515 - acc: 0.7000 - val_loss: 1.3827 - val_acc: 0.2400\n",
      "Epoch 74/100\n",
      "100/100 [==============================] - 0s 625us/sample - loss: 0.7505 - acc: 0.7100 - val_loss: 1.3681 - val_acc: 0.2500\n",
      "Epoch 75/100\n",
      "100/100 [==============================] - 0s 534us/sample - loss: 0.7429 - acc: 0.7200 - val_loss: 1.3638 - val_acc: 0.2400\n",
      "Epoch 76/100\n",
      "100/100 [==============================] - 0s 469us/sample - loss: 0.7427 - acc: 0.7300 - val_loss: 1.3541 - val_acc: 0.2600\n",
      "Epoch 77/100\n",
      "100/100 [==============================] - 0s 378us/sample - loss: 0.7373 - acc: 0.7400 - val_loss: 1.3725 - val_acc: 0.2500\n",
      "Epoch 78/100\n",
      "100/100 [==============================] - 0s 313us/sample - loss: 0.7333 - acc: 0.7500 - val_loss: 1.3681 - val_acc: 0.2500\n",
      "Epoch 79/100\n",
      "100/100 [==============================] - 0s 378us/sample - loss: 0.7306 - acc: 0.7300 - val_loss: 1.3689 - val_acc: 0.2500\n",
      "Epoch 80/100\n",
      "100/100 [==============================] - 0s 313us/sample - loss: 0.7271 - acc: 0.7400 - val_loss: 1.3804 - val_acc: 0.2600\n",
      "Epoch 81/100\n",
      "100/100 [==============================] - 0s 378us/sample - loss: 0.7241 - acc: 0.7400 - val_loss: 1.3797 - val_acc: 0.2600\n",
      "Epoch 82/100\n",
      "100/100 [==============================] - 0s 537us/sample - loss: 0.7221 - acc: 0.7400 - val_loss: 1.3767 - val_acc: 0.2600\n",
      "Epoch 83/100\n",
      "100/100 [==============================] - 0s 463us/sample - loss: 0.7211 - acc: 0.7300 - val_loss: 1.3842 - val_acc: 0.2700\n",
      "Epoch 84/100\n",
      "100/100 [==============================] - 0s 386us/sample - loss: 0.7148 - acc: 0.7500 - val_loss: 1.3857 - val_acc: 0.2600\n",
      "Epoch 85/100\n",
      "100/100 [==============================] - 0s 458us/sample - loss: 0.7123 - acc: 0.7400 - val_loss: 1.4008 - val_acc: 0.2600\n",
      "Epoch 86/100\n",
      "100/100 [==============================] - 0s 469us/sample - loss: 0.7069 - acc: 0.7300 - val_loss: 1.3933 - val_acc: 0.2700\n",
      "Epoch 87/100\n",
      "100/100 [==============================] - 0s 378us/sample - loss: 0.7043 - acc: 0.7500 - val_loss: 1.3884 - val_acc: 0.2700\n",
      "Epoch 88/100\n",
      "100/100 [==============================] - 0s 313us/sample - loss: 0.7025 - acc: 0.7700 - val_loss: 1.4101 - val_acc: 0.2500\n",
      "Epoch 89/100\n",
      "100/100 [==============================] - 0s 378us/sample - loss: 0.6962 - acc: 0.7400 - val_loss: 1.4019 - val_acc: 0.2700\n",
      "Epoch 90/100\n",
      "100/100 [==============================] - 0s 313us/sample - loss: 0.6942 - acc: 0.7500 - val_loss: 1.4222 - val_acc: 0.2500\n",
      "Epoch 91/100\n",
      "100/100 [==============================] - 0s 378us/sample - loss: 0.6936 - acc: 0.7400 - val_loss: 1.4309 - val_acc: 0.2500\n",
      "Epoch 92/100\n",
      "100/100 [==============================] - 0s 313us/sample - loss: 0.6879 - acc: 0.7300 - val_loss: 1.4147 - val_acc: 0.2700\n",
      "Epoch 93/100\n",
      "100/100 [==============================] - 0s 313us/sample - loss: 0.6841 - acc: 0.7500 - val_loss: 1.4196 - val_acc: 0.2700\n",
      "Epoch 94/100\n",
      "100/100 [==============================] - 0s 534us/sample - loss: 0.6830 - acc: 0.7500 - val_loss: 1.4252 - val_acc: 0.2500\n",
      "Epoch 95/100\n",
      "100/100 [==============================] - 0s 313us/sample - loss: 0.6791 - acc: 0.7300 - val_loss: 1.4359 - val_acc: 0.2500\n",
      "Epoch 96/100\n",
      "100/100 [==============================] - 0s 378us/sample - loss: 0.6762 - acc: 0.7300 - val_loss: 1.4193 - val_acc: 0.2800\n",
      "Epoch 97/100\n",
      "100/100 [==============================] - 0s 313us/sample - loss: 0.6736 - acc: 0.7300 - val_loss: 1.4283 - val_acc: 0.2700\n",
      "Epoch 98/100\n",
      "100/100 [==============================] - 0s 378us/sample - loss: 0.6677 - acc: 0.7600 - val_loss: 1.4220 - val_acc: 0.2700\n",
      "Epoch 99/100\n",
      "100/100 [==============================] - 0s 469us/sample - loss: 0.6648 - acc: 0.7500 - val_loss: 1.4232 - val_acc: 0.2600\n",
      "Epoch 100/100\n",
      "100/100 [==============================] - 0s 313us/sample - loss: 0.6610 - acc: 0.7600 - val_loss: 1.4224 - val_acc: 0.2700\n",
      "Test loss: 1.4224232053756714\n",
      "Test accuracy: 0.27\n"
     ]
    },
    {
     "data": {
      "image/png": "[encoded data removed]",
      "text/plain": [
       "<Figure size 432x288 with 1 Axes>"
      ]
     },
     "metadata": {
      "needs_background": "light"
     },
     "output_type": "display_data"
    }
   ],
   "source": [
    "# 2. increases error probability (remember what p=1/2 means)\n",
    "\n",
    "\n",
    "def modify(type):\n",
    "    p = 1/2\n",
    "    r = np.random.choice(a=[False, True], size=(5, 5), p=[1-p, p])\n",
    "    # return np.bitwise_xor(np.zeros((5,5), dtype=\"bool\"), r) # To see what happens if there is no information in sample\n",
    "    if type==1:\n",
    "        return np.bitwise_xor(checkmark, r)\n",
    "    elif type==0:\n",
    "        return np.bitwise_xor(cross, r)\n",
    "    else:\n",
    "        return np.bitwise_xor(np.zeros((5,5), dtype=\"bool\"), r)\n",
    "    \n",
    "# 1. reduce sample size and increase epochs\n",
    "\n",
    "# create train and test data (with checkmark, x or empty)\n",
    "y_train = np.random.randint(-1, 2, size=100)\n",
    "x_train = [modify(y).reshape((25,1)) for y in y_train] # list of 100 images following y_train\n",
    "\n",
    "y_test = np.random.randint(-1, 2, size=100)\n",
    "x_test = [modify(y).reshape((25,1)) for y in y_test] \n",
    "\n",
    "y_train = np.array(y_train).reshape(100, 1)\n",
    "y_test = np.array(y_test).reshape(100, 1)\n",
    "\n",
    "y_train = keras.utils.to_categorical(y_train, num_classes)\n",
    "y_test = keras.utils.to_categorical(y_test, num_classes)\n",
    "\n",
    "x_train = np.array(x_train).reshape(100, 25)\n",
    "x_test = np.array(x_test).reshape(100, 25)\n",
    "\n",
    "\n",
    "# Build, train and evaluate neural network\n",
    "\n",
    "from tensorflow.keras.models import Sequential\n",
    "from tensorflow.keras.layers import Dense\n",
    "\n",
    "batch_size = 16\n",
    "epochs = 100\n",
    "\n",
    "model = Sequential()\n",
    "model.add(Dense(25, activation='relu', input_shape=(25,)))\n",
    "model.add(Dense(num_classes, activation='softmax'))\n",
    "model.summary()\n",
    "\n",
    "model.compile(loss='categorical_crossentropy',\n",
    "              optimizer='rmsprop',\n",
    "              metrics=['accuracy'])\n",
    "\n",
    "history = model.fit(x_train, y_train,\n",
    "                    batch_size=batch_size,\n",
    "                    epochs=epochs,\n",
    "                    verbose=1,\n",
    "                    validation_data=(x_test, y_test))\n",
    "\n",
    "score = model.evaluate(x_test, y_test, verbose=0)\n",
    "print('Test loss:', score[0])\n",
    "print('Test accuracy:', score[1])\n",
    "\n",
    "history_dict = history.history\n",
    "acc = history.history['acc']\n",
    "val_acc = history.history['val_acc']\n",
    "plt.plot(range(epochs), acc, 'bo', label='Training accuracy')\n",
    "plt.plot(range(epochs), val_acc, 'b', label='Validation accuracy')\n",
    "plt.title('Training and validation accuracy')\n",
    "plt.xlabel('Epochs')\n",
    "plt.ylabel('Accuracy')\n",
    "plt.legend()\n",
    "plt.show()"
   ]
  },
  {
   "cell_type": "markdown",
   "id": "87c16720",
   "metadata": {},
   "source": [
    "Assume it has been ensured that all the form's questions have been answered, i.e. there are only two categories and no empty boxes. Adjust the code above to reflect this (both in the sample creation and the neural network). The loss function should also be changed to binary crossentropy in this case (https://keras.io/api/losses/probabilistic_losses/#binarycrossentropy-class)."
   ]
  },
  {
   "cell_type": "code",
   "execution_count": 85,
   "id": "4b82bba6",
   "metadata": {},
   "outputs": [
    {
     "name": "stdout",
     "output_type": "stream",
     "text": [
      "Model: \"sequential_14\"\n",
      "_________________________________________________________________\n",
      "Layer (type)                 Output Shape              Param #   \n",
      "=================================================================\n",
      "dense_31 (Dense)             (None, 25)                650       \n",
      "_________________________________________________________________\n",
      "dense_32 (Dense)             (None, 1)                 26        \n",
      "=================================================================\n",
      "Total params: 676\n",
      "Trainable params: 676\n",
      "Non-trainable params: 0\n",
      "_________________________________________________________________\n",
      "Train on 100 samples, validate on 100 samples\n",
      "Epoch 1/20\n",
      "100/100 [==============================] - 1s 10ms/sample - loss: 0.7291 - acc: 0.4900 - val_loss: 0.7112 - val_acc: 0.5200\n",
      "Epoch 2/20\n",
      "100/100 [==============================] - 0s 469us/sample - loss: 0.7189 - acc: 0.5300 - val_loss: 0.7068 - val_acc: 0.5200\n",
      "Epoch 3/20\n",
      "100/100 [==============================] - 0s 596us/sample - loss: 0.7068 - acc: 0.5300 - val_loss: 0.7046 - val_acc: 0.4900\n",
      "Epoch 4/20\n",
      "100/100 [==============================] - 0s 363us/sample - loss: 0.7022 - acc: 0.5200 - val_loss: 0.7059 - val_acc: 0.5200\n",
      "Epoch 5/20\n",
      "100/100 [==============================] - 0s 373us/sample - loss: 0.6979 - acc: 0.5200 - val_loss: 0.7047 - val_acc: 0.4700\n",
      "Epoch 6/20\n",
      "100/100 [==============================] - 0s 469us/sample - loss: 0.6926 - acc: 0.5300 - val_loss: 0.7056 - val_acc: 0.5000\n",
      "Epoch 7/20\n",
      "100/100 [==============================] - 0s 534us/sample - loss: 0.6887 - acc: 0.5500 - val_loss: 0.7062 - val_acc: 0.4800\n",
      "Epoch 8/20\n",
      "100/100 [==============================] - 0s 625us/sample - loss: 0.6861 - acc: 0.5800 - val_loss: 0.7067 - val_acc: 0.4700\n",
      "Epoch 9/20\n",
      "100/100 [==============================] - 0s 534us/sample - loss: 0.6808 - acc: 0.5800 - val_loss: 0.7077 - val_acc: 0.4700\n",
      "Epoch 10/20\n",
      "100/100 [==============================] - 0s 534us/sample - loss: 0.6775 - acc: 0.5900 - val_loss: 0.7091 - val_acc: 0.4700\n",
      "Epoch 11/20\n",
      "100/100 [==============================] - 0s 469us/sample - loss: 0.6738 - acc: 0.6000 - val_loss: 0.7100 - val_acc: 0.4800\n",
      "Epoch 12/20\n",
      "100/100 [==============================] - 0s 378us/sample - loss: 0.6713 - acc: 0.5800 - val_loss: 0.7114 - val_acc: 0.4800\n",
      "Epoch 13/20\n",
      "100/100 [==============================] - 0s 469us/sample - loss: 0.6655 - acc: 0.6200 - val_loss: 0.7119 - val_acc: 0.4700\n",
      "Epoch 14/20\n",
      "100/100 [==============================] - 0s 534us/sample - loss: 0.6650 - acc: 0.6200 - val_loss: 0.7127 - val_acc: 0.4900\n",
      "Epoch 15/20\n",
      "100/100 [==============================] - 0s 625us/sample - loss: 0.6583 - acc: 0.6100 - val_loss: 0.7138 - val_acc: 0.4700\n",
      "Epoch 16/20\n",
      "100/100 [==============================] - 0s 534us/sample - loss: 0.6587 - acc: 0.6300 - val_loss: 0.7150 - val_acc: 0.4500\n",
      "Epoch 17/20\n",
      "100/100 [==============================] - 0s 469us/sample - loss: 0.6527 - acc: 0.6300 - val_loss: 0.7165 - val_acc: 0.4300\n",
      "Epoch 18/20\n",
      "100/100 [==============================] - 0s 378us/sample - loss: 0.6504 - acc: 0.6300 - val_loss: 0.7176 - val_acc: 0.4300\n",
      "Epoch 19/20\n",
      "100/100 [==============================] - 0s 534us/sample - loss: 0.6472 - acc: 0.6500 - val_loss: 0.7188 - val_acc: 0.4400\n",
      "Epoch 20/20\n",
      "100/100 [==============================] - 0s 469us/sample - loss: 0.6470 - acc: 0.6400 - val_loss: 0.7208 - val_acc: 0.4500\n",
      "Test loss: 0.7208234643936158\n",
      "Test accuracy: 0.45\n"
     ]
    },
    {
     "data": {
      "image/png": "[encoded data removed]",
      "text/plain": [
       "<Figure size 432x288 with 1 Axes>"
      ]
     },
     "metadata": {
      "needs_background": "light"
     },
     "output_type": "display_data"
    }
   ],
   "source": [
    "# create train and test data\n",
    "y_train = np.random.randint(0, 2, size=100)            # range is changed to (0,2) - 2 categories i.e. 0,1\n",
    "x_train = [modify(y).reshape((25,1)) for y in y_train] # list of 100 images following y_train\n",
    "\n",
    "y_test = np.random.randint(0, 2, size=100)\n",
    "x_test = [modify(y).reshape((25,1)) for y in y_test] \n",
    "\n",
    "# Prepare sample \n",
    "\n",
    "y_train = np.array(y_train).reshape(100, 1)\n",
    "y_test = np.array(y_test).reshape(100, 1)\n",
    "\n",
    "x_train = np.array(x_train).reshape(100, 25)\n",
    "x_test = np.array(x_test).reshape(100, 25)\n",
    "\n",
    "# Build, train and evaluate neural network\n",
    "\n",
    "from tensorflow.keras.models import Sequential\n",
    "from tensorflow.keras.layers import Dense\n",
    "\n",
    "batch_size = 16\n",
    "epochs = 20\n",
    "\n",
    "model = Sequential()\n",
    "model.add(Dense(25, activation='relu', input_shape=(25,)))\n",
    "model.add(Dense(1, activation='sigmoid'))\n",
    "model.summary()\n",
    "\n",
    "model.compile(loss='binary_crossentropy',\n",
    "              optimizer='rmsprop',\n",
    "              metrics=['accuracy'])\n",
    "\n",
    "history = model.fit(x_train, y_train,\n",
    "                    batch_size=batch_size,\n",
    "                    epochs=epochs,\n",
    "                    verbose=1,\n",
    "                    validation_data=(x_test, y_test))\n",
    "\n",
    "score = model.evaluate(x_test, y_test, verbose=0)\n",
    "print('Test loss:', score[0])\n",
    "print('Test accuracy:', score[1])\n",
    "\n",
    "history_dict = history.history\n",
    "acc = history.history['acc']\n",
    "val_acc = history.history['val_acc']\n",
    "plt.plot(range(epochs), acc, 'bo', label='Training accuracy')\n",
    "plt.plot(range(epochs), val_acc, 'b', label='Validation accuracy')\n",
    "plt.title('Training and validation accuracy')\n",
    "plt.xlabel('Epochs')\n",
    "plt.ylabel('Accuracy')\n",
    "plt.legend()\n",
    "plt.show()"
   ]
  },
  {
   "cell_type": "markdown",
   "id": "67128357",
   "metadata": {},
   "source": [
    "# Neural network from scratch\n",
    "\n",
    "To better understand how neural network are built and trained, the following example shows a model that performs a similar task - recognizing digits - but is written without libraries that abstract from the details. \n",
    "\n",
    "This example is adapted from the book [\"Data Science from Scratch\" by Joel Grus (2015)](https://github.com/joelgrus/data-science-from-scratch)."
   ]
  },
  {
   "cell_type": "code",
   "execution_count": 86,
   "id": "fb3778f4",
   "metadata": {},
   "outputs": [],
   "source": [
    "from collections import Counter\n",
    "from functools import partial\n",
    "import math, random\n",
    "import matplotlib\n",
    "import matplotlib.pyplot as plt\n",
    "\n",
    "def dot(v, w):\n",
    "    \"\"\"v_1 * w_1 + ... + v_n * w_n\"\"\"\n",
    "    return sum(v_i * w_i for v_i, w_i in zip(v, w))\n",
    "\n",
    "def sigmoid(t):\n",
    "    return 1 / (1 + math.exp(-t))\n",
    "\n",
    "def neuron_output(weights, inputs):\n",
    "    return sigmoid(dot(weights, inputs))\n",
    "\n",
    "def feed_forward(neural_network, input_vector):\n",
    "    \"\"\"takes in a neural network (represented as a list of lists of lists of weights)\n",
    "    and returns the output from forward-propagating the input\"\"\"\n",
    "    outputs = []\n",
    "    for layer in neural_network:\n",
    "        input_with_bias = input_vector + [1]             # add a bias input\n",
    "        output = [neuron_output(neuron, input_with_bias) # compute the output\n",
    "                  for neuron in layer]                   # for this layer\n",
    "        outputs.append(output)                           # and remember it\n",
    "        # the input to the next layer is the output of this one\n",
    "        input_vector = output\n",
    "    return outputs"
   ]
  },
  {
   "cell_type": "markdown",
   "id": "6f8aa128",
   "metadata": {},
   "source": [
    "Note that the network lists layers, which in turn list weights. If we had the weights already, we could simply use the network with feed_forward. But unlike the \"xor\" task above, it would  be difficult to manually pick weights for (even such simplified) image recognition. Hence we need a function to learn weights:"
   ]
  },
  {
   "cell_type": "code",
   "execution_count": 87,
   "id": "c7e15859",
   "metadata": {},
   "outputs": [],
   "source": [
    "def backpropagate(network, input_vector, target):\n",
    "    hidden_outputs, outputs = feed_forward(network, input_vector)\n",
    "\n",
    "    # the output * (1 - output) is from the derivative of sigmoid\n",
    "    output_deltas = [output * (1 - output) * (output - target[i])\n",
    "                     for i, output in enumerate(outputs)]\n",
    "\n",
    "    # adjust weights for output layer (network[-1])\n",
    "    for i, output_neuron in enumerate(network[-1]):\n",
    "        for j, hidden_output in enumerate(hidden_outputs + [1]):\n",
    "            output_neuron[j] -= output_deltas[i] * hidden_output\n",
    "\n",
    "    # back-propagate errors to hidden layer\n",
    "    hidden_deltas = [hidden_output * (1 - hidden_output) *\n",
    "                      dot(output_deltas, [n[i] for n in network[-1]])\n",
    "                     for i, hidden_output in enumerate(hidden_outputs)]\n",
    "\n",
    "    # adjust weights for hidden layer (network[0])\n",
    "    for i, hidden_neuron in enumerate(network[0]):\n",
    "        for j, input in enumerate(input_vector + [1]):\n",
    "            hidden_neuron[j] -= hidden_deltas[i] * input"
   ]
  },
  {
   "cell_type": "markdown",
   "id": "da80e81a",
   "metadata": {},
   "source": [
    "We later want to illustrate what (weights) the network has learned:"
   ]
  },
  {
   "cell_type": "code",
   "execution_count": 88,
   "id": "5c9b9cb4",
   "metadata": {},
   "outputs": [],
   "source": [
    "def show_weights(neuron_idx):\n",
    "    weights = network[0][neuron_idx]\n",
    "    grid = [weights[row:(row+5)] # turn the weights into a 5x5 grid\n",
    "            for row in range(0,25,5)] # [weights[0:5], ..., weights[20:25]]\n",
    "    ax = plt.gca() # to use hatching, we'll need the axis\n",
    "    ax.imshow(grid, # here same as plt.imshow\n",
    "              cmap=matplotlib.cm.RdYlGn, # red (negative) to green (positive)\n",
    "              interpolation='none') # plot blocks as blocks"
   ]
  },
  {
   "cell_type": "markdown",
   "id": "ea487433",
   "metadata": {},
   "source": [
    "The next step is the actual task/data:"
   ]
  },
  {
   "cell_type": "code",
   "execution_count": 89,
   "id": "ae236d56",
   "metadata": {},
   "outputs": [],
   "source": [
    "raw_digits = [\n",
    "          \"\"\"11111\n",
    "             1...1\n",
    "             1...1\n",
    "             1...1\n",
    "             11111\"\"\",\n",
    "\n",
    "          \"\"\"..1..\n",
    "             ..1..\n",
    "             ..1..\n",
    "             ..1..\n",
    "             ..1..\"\"\",\n",
    "\n",
    "          \"\"\"11111\n",
    "             ....1\n",
    "             11111\n",
    "             1....\n",
    "             11111\"\"\",\n",
    "\n",
    "          \"\"\"11111\n",
    "             ....1\n",
    "             11111\n",
    "             ....1\n",
    "             11111\"\"\",\n",
    "\n",
    "          \"\"\"1...1\n",
    "             1...1\n",
    "             11111\n",
    "             ....1\n",
    "             ....1\"\"\",\n",
    "\n",
    "          \"\"\"11111\n",
    "             1....\n",
    "             11111\n",
    "             ....1\n",
    "             11111\"\"\",\n",
    "\n",
    "          \"\"\"11111\n",
    "             1....\n",
    "             11111\n",
    "             1...1\n",
    "             11111\"\"\",\n",
    "\n",
    "          \"\"\"11111\n",
    "             ....1\n",
    "             ....1\n",
    "             ....1\n",
    "             ....1\"\"\",\n",
    "\n",
    "          \"\"\"11111\n",
    "             1...1\n",
    "             11111\n",
    "             1...1\n",
    "             11111\"\"\",\n",
    "\n",
    "          \"\"\"11111\n",
    "             1...1\n",
    "             11111\n",
    "             ....1\n",
    "             11111\"\"\"]\n",
    "\n",
    "def make_digit(raw_digit):\n",
    "    return [1 if c == '1' else 0\n",
    "            for row in raw_digit.split(\"\\n\")\n",
    "            for c in row.strip()]\n",
    "\n",
    "inputs = list(map(make_digit, raw_digits))\n",
    "\n",
    "# Note that the output the network \"sees\" is a list:\n",
    "targets = [[1 if i == j else 0 for i in range(10)]\n",
    "            for j in range(10)]\n",
    "\n",
    "random.seed(0)   # to get repeatable results\n",
    "input_size = 25  # each input is a vector of length 25\n",
    "num_hidden = 5   # we'll have 5 neurons in the hidden layer\n",
    "output_size = 10 # we need 10 outputs for each input\n",
    "\n",
    "# each hidden neuron has one weight per input, plus a bias weight\n",
    "hidden_layer = [[random.random() for __ in range(input_size + 1)]\n",
    "                for __ in range(num_hidden)]\n",
    "\n",
    "# each output neuron has one weight per hidden neuron, plus a bias weight\n",
    "output_layer = [[random.random() for __ in range(num_hidden + 1)]\n",
    "                for __ in range(output_size)]\n",
    "\n",
    "# the network starts out with random weights\n",
    "network = [hidden_layer, output_layer]"
   ]
  },
  {
   "cell_type": "markdown",
   "id": "0527de57",
   "metadata": {},
   "source": [
    "The network is trained and then tested on some new digits:"
   ]
  },
  {
   "cell_type": "code",
   "execution_count": 90,
   "id": "356b10ad",
   "metadata": {},
   "outputs": [
    {
     "name": "stdout",
     "output_type": "stream",
     "text": [
      "0 [0.96, 0.0, 0.0, 0.0, 0.0, 0.0, 0.0, 0.02, 0.03, 0.0]\n",
      "1 [0.0, 0.96, 0.03, 0.02, 0.0, 0.0, 0.0, 0.0, 0.0, 0.0]\n",
      "2 [0.0, 0.02, 0.96, 0.0, 0.0, 0.03, 0.0, 0.0, 0.0, 0.0]\n",
      "3 [0.0, 0.03, 0.0, 0.97, 0.0, 0.0, 0.0, 0.02, 0.0, 0.03]\n",
      "4 [0.0, 0.02, 0.0, 0.0, 0.99, 0.0, 0.0, 0.01, 0.0, 0.0]\n",
      "5 [0.0, 0.0, 0.02, 0.0, 0.0, 0.96, 0.01, 0.0, 0.02, 0.02]\n",
      "6 [0.0, 0.0, 0.01, 0.0, 0.01, 0.01, 0.99, 0.0, 0.0, 0.0]\n",
      "7 [0.02, 0.0, 0.0, 0.02, 0.0, 0.0, 0.0, 0.97, 0.0, 0.0]\n",
      "8 [0.03, 0.0, 0.0, 0.0, 0.0, 0.02, 0.0, 0.0, 0.96, 0.03]\n",
      "9 [0.0, 0.0, 0.0, 0.01, 0.0, 0.02, 0.0, 0.0, 0.03, 0.95]\n",
      "\n",
      ".@@@.\n",
      "...@@\n",
      "..@@.\n",
      "...@@\n",
      ".@@@.\n",
      "[0.0, 0.0, 0.0, 0.94, 0.0, 0.0, 0.0, 0.01, 0.0, 0.13]\n",
      "\n",
      ".@@@.\n",
      "@..@@\n",
      ".@@@.\n",
      "@..@@\n",
      ".@@@.\n",
      "[0.0, 0.0, 0.0, 0.0, 0.0, 0.59, 0.0, 0.0, 0.95, 1.0]\n",
      "\n"
     ]
    }
   ],
   "source": [
    "# 10,000 iterations seems enough to converge\n",
    "for __ in range(10000):\n",
    "    for input_vector, target_vector in zip(inputs, targets):\n",
    "        backpropagate(network, input_vector, target_vector)\n",
    "\n",
    "def predict(input):\n",
    "    return feed_forward(network, input)[-1]\n",
    "\n",
    "for i, input in enumerate(inputs):\n",
    "    outputs = predict(input)\n",
    "    print(i, [round(p,2) for p in outputs])\n",
    "\n",
    "print()\n",
    "\n",
    "\n",
    "print(\"\"\".@@@.\n",
    "...@@\n",
    "..@@.\n",
    "...@@\n",
    ".@@@.\"\"\")\n",
    "print([round(x, 2) for x in\n",
    "        predict(  [0,1,1,1,0,    # .@@@.\n",
    "                    0,0,0,1,1,    # ...@@\n",
    "                    0,0,1,1,0,    # ..@@.\n",
    "                    0,0,0,1,1,    # ...@@\n",
    "                    0,1,1,1,0])]) # .@@@.\n",
    "print()\n",
    "\n",
    "print(\"\"\".@@@.\n",
    "@..@@\n",
    ".@@@.\n",
    "@..@@\n",
    ".@@@.\"\"\")\n",
    "print([round(x, 2) for x in\n",
    "        predict(  [0,1,1,1,0,    # .@@@.\n",
    "                    1,0,0,1,1,    # @..@@\n",
    "                    0,1,1,1,0,    # .@@@.\n",
    "                    1,0,0,1,1,    # @..@@\n",
    "                    0,1,1,1,0])]) # .@@@.\n",
    "print()"
   ]
  },
  {
   "cell_type": "markdown",
   "id": "8cb6143b",
   "metadata": {},
   "source": [
    "In the first part of the above output we see that training digits have been learned. \n",
    "Then the new 3 is recognized quite well.\n",
    "The 8 in the last output was perceived as a 9, although closely followed by 8. It is also perceived as similar to a 5."
   ]
  },
  {
   "cell_type": "markdown",
   "id": "9da65cdc",
   "metadata": {},
   "source": [
    "What do the weights in the hidden neurons look like?"
   ]
  },
  {
   "cell_type": "code",
   "execution_count": 91,
   "id": "5a9165a7",
   "metadata": {},
   "outputs": [
    {
     "data": {
      "image/png": "[encoded data removed]",
      "text/plain": [
       "<Figure size 432x288 with 1 Axes>"
      ]
     },
     "metadata": {
      "needs_background": "light"
     },
     "output_type": "display_data"
    }
   ],
   "source": [
    "show_weights(0)"
   ]
  },
  {
   "cell_type": "code",
   "execution_count": 92,
   "id": "8568798f",
   "metadata": {},
   "outputs": [
    {
     "data": {
      "text/plain": [
       "[[-1.9762574257741532,\n",
       "  1.7438696775654206,\n",
       "  -0.8023759953213773,\n",
       "  1.2448320249180904,\n",
       "  -2.3094045559305587],\n",
       " [10.477928152312646,\n",
       "  0.7837985890347726,\n",
       "  -1.9055501246984408,\n",
       "  0.4765969541523558,\n",
       "  -6.5703617792888735],\n",
       " [-1.9327180016552672,\n",
       "  3.320756874805275,\n",
       "  0.8890450126101805,\n",
       "  3.571874223145094,\n",
       "  -2.20231028062384],\n",
       " [7.70923888277809,\n",
       "  0.9097462559682401,\n",
       "  -1.2260773747397238,\n",
       "  0.8102172359965896,\n",
       "  -1.623426609353764],\n",
       " [1.275911234393042,\n",
       "  1.6955954133338342,\n",
       "  -0.34426089773566526,\n",
       "  1.649747596989139,\n",
       "  -2.348536561846447]]"
      ]
     },
     "execution_count": 92,
     "metadata": {},
     "output_type": "execute_result"
    }
   ],
   "source": [
    "# and the numbers for a grid:\n",
    "neuron_idx = 0\n",
    "weights = network[0][neuron_idx]\n",
    "grid = [weights[row:(row+5)]  for row in range(0,25,5)] \n",
    "grid"
   ]
  },
  {
   "cell_type": "code",
   "execution_count": 93,
   "id": "72291198",
   "metadata": {},
   "outputs": [
    {
     "data": {
      "text/plain": [
       "26"
      ]
     },
     "execution_count": 93,
     "metadata": {},
     "output_type": "execute_result"
    }
   ],
   "source": [
    "len(weights)"
   ]
  },
  {
   "cell_type": "code",
   "execution_count": 94,
   "id": "652f39ab",
   "metadata": {},
   "outputs": [
    {
     "data": {
      "text/plain": [
       "-4.928840920008189"
      ]
     },
     "execution_count": 94,
     "metadata": {},
     "output_type": "execute_result"
    }
   ],
   "source": [
    "weights[25] # bias"
   ]
  },
  {
   "cell_type": "code",
   "execution_count": 95,
   "id": "0d632bcf",
   "metadata": {},
   "outputs": [
    {
     "data": {
      "text/plain": [
       "5"
      ]
     },
     "execution_count": 95,
     "metadata": {},
     "output_type": "execute_result"
    }
   ],
   "source": [
    "len(network[0])"
   ]
  },
  {
   "cell_type": "code",
   "execution_count": 96,
   "id": "736bf001",
   "metadata": {},
   "outputs": [
    {
     "data": {
      "text/plain": [
       "10"
      ]
     },
     "execution_count": 96,
     "metadata": {},
     "output_type": "execute_result"
    }
   ],
   "source": [
    "len(network[1])"
   ]
  },
  {
   "cell_type": "code",
   "execution_count": 97,
   "id": "1db80f7c",
   "metadata": {},
   "outputs": [
    {
     "data": {
      "text/plain": [
       "12.963794505040527"
      ]
     },
     "execution_count": 97,
     "metadata": {},
     "output_type": "execute_result"
    }
   ],
   "source": [
    "network[1][6][0] # How does this hidden neuron contribute to recognizing the digit as 6?"
   ]
  },
  {
   "cell_type": "code",
   "execution_count": 98,
   "id": "c2b3294c",
   "metadata": {},
   "outputs": [
    {
     "data": {
      "text/plain": [
       "-12.081421209491934"
      ]
     },
     "execution_count": 98,
     "metadata": {},
     "output_type": "execute_result"
    }
   ],
   "source": [
    "network[1][7][0]"
   ]
  },
  {
   "cell_type": "code",
   "execution_count": 99,
   "id": "f4208215",
   "metadata": {},
   "outputs": [
    {
     "name": "stdout",
     "output_type": "stream",
     "text": [
      "0.9999757061230374\n",
      "0.9454650524875013\n",
      "2.0967428729819267e-09\n"
     ]
    }
   ],
   "source": [
    "left_column_only = [1, 0, 0, 0, 0] * 5\n",
    "print(feed_forward(network, left_column_only)[0][0]) # 1.0\n",
    "\n",
    "center_middle_row=[0,0,0,0,0]*2+[0,1,1,1,0]+[0,0,0,0,0]*2 \n",
    "print(feed_forward(network, center_middle_row)[0][0]) # 0.95\n",
    "\n",
    "right_column_only = [0, 0, 0, 0, 1] * 5\n",
    "print(feed_forward(network, right_column_only)[0][0]) # 0.0"
   ]
  },
  {
   "cell_type": "code",
   "execution_count": 100,
   "id": "2107cd2c",
   "metadata": {},
   "outputs": [
    {
     "data": {
      "text/plain": [
       "[1, 0, 0, 0, 0, 1, 0, 0, 0, 0, 1, 0, 0, 0, 0, 1, 0, 0, 0, 0, 1, 0, 0, 0, 0]"
      ]
     },
     "execution_count": 100,
     "metadata": {},
     "output_type": "execute_result"
    }
   ],
   "source": [
    "left_column_only"
   ]
  },
  {
   "cell_type": "markdown",
   "id": "dac98e45",
   "metadata": {},
   "source": [
    "Note that, unlike in the previous example, here the digits don't contain errors in the training sample (with 10 observations for 10 digits). Training accuracy would be 100%, the output numbers instead refers to the respective output node's activation, i.e. the value of the sigmoid function. "
   ]
  },
  {
   "cell_type": "markdown",
   "id": "e75453e1",
   "metadata": {},
   "source": [
    "## Keras text analysis examples\n",
    "\n",
    "For more examples of practical applications with Keras specifically, see the official github repository: https://keras.io/examples/\n",
    "\n",
    "Let's have a look at these two examples:\n",
    "\n",
    "*imdb_lstm.py Trains an **LSTM model** on the IMDB sentiment classification task.*\n",
    "\n",
    "*pretrained_word_embeddings.py Loads **pre-trained word embeddings** (GloVe embeddings) into a frozen Keras Embedding layer, and uses it to train a text classification model on the 20 Newsgroup dataset.*\n"
   ]
  },
  {
   "cell_type": "markdown",
   "id": "659af27f",
   "metadata": {},
   "source": [
    "![Illustration from Wikipedia article on Recurrent Neural Networks](https://upload.wikimedia.org/wikipedia/commons/b/b5/Recurrent_neural_network_unfold.svg)\n",
    "\n",
    "Recurrent neural networks take the sequence structure into account. LSTM RNNs have long and short term memory, so that a longer history (of previously seen data) can be \"remembered\"."
   ]
  },
  {
   "cell_type": "code",
   "execution_count": 101,
   "id": "3c0ae4c1",
   "metadata": {},
   "outputs": [
    {
     "name": "stdout",
     "output_type": "stream",
     "text": [
      "Loading data...\n"
     ]
    },
    {
     "name": "stderr",
     "output_type": "stream",
     "text": [
      "C:\\Users\\johnd\\miniconda3\\envs\\tensor_env\\lib\\site-packages\\tensorflow\\python\\keras\\datasets\\imdb.py:128: VisibleDeprecationWarning: Creating an ndarray from ragged nested sequences (which is a list-or-tuple of lists-or-tuples-or ndarrays with different lengths or shapes) is deprecated. If you meant to do this, you must specify 'dtype=object' when creating the ndarray.\n",
      "  x_train, y_train = np.array(xs[:idx]), np.array(labels[:idx])\n",
      "C:\\Users\\johnd\\miniconda3\\envs\\tensor_env\\lib\\site-packages\\tensorflow\\python\\keras\\datasets\\imdb.py:129: VisibleDeprecationWarning: Creating an ndarray from ragged nested sequences (which is a list-or-tuple of lists-or-tuples-or ndarrays with different lengths or shapes) is deprecated. If you meant to do this, you must specify 'dtype=object' when creating the ndarray.\n",
      "  x_test, y_test = np.array(xs[idx:]), np.array(labels[idx:])\n"
     ]
    },
    {
     "name": "stdout",
     "output_type": "stream",
     "text": [
      "25000 train sequences\n",
      "25000 test sequences\n",
      "Pad sequences (samples x time)\n",
      "x_train shape: (25000, 80)\n",
      "x_test shape: (25000, 80)\n",
      "Build model...\n",
      "Train...\n",
      "Train on 25000 samples, validate on 25000 samples\n",
      "Epoch 1/5\n",
      "25000/25000 [==============================] - 205s 8ms/sample - loss: 0.4598 - acc: 0.7842 - val_loss: 0.4456 - val_acc: 0.8107\n",
      "Epoch 2/5\n",
      "25000/25000 [==============================] - 203s 8ms/sample - loss: 0.3025 - acc: 0.8774 - val_loss: 0.3935 - val_acc: 0.8274\n",
      "Epoch 3/5\n",
      "25000/25000 [==============================] - 205s 8ms/sample - loss: 0.2233 - acc: 0.9130 - val_loss: 0.4412 - val_acc: 0.8267\n",
      "Epoch 4/5\n",
      "25000/25000 [==============================] - 203s 8ms/sample - loss: 0.1605 - acc: 0.9386 - val_loss: 0.5391 - val_acc: 0.8297\n",
      "Epoch 5/5\n",
      "25000/25000 [==============================] - 206s 8ms/sample - loss: 0.1124 - acc: 0.9595 - val_loss: 0.5235 - val_acc: 0.8216\n",
      "25000/25000 [==============================] - 31s 1ms/sample - loss: 0.5235 - acc: 0.8216\n",
      "Test score: 0.5234728244304657\n",
      "Test accuracy: 0.82164\n"
     ]
    }
   ],
   "source": [
    "# https://github.com/keras-team/keras/blob/master/examples/imdb_lstm.py\n",
    "\n",
    "'''\n",
    "#Trains an LSTM model on the IMDB sentiment classification task.\n",
    "The dataset is actually too small for LSTM to be of any advantage\n",
    "compared to simpler, much faster methods such as TF-IDF + LogReg.\n",
    "**Notes**\n",
    "- RNNs are tricky. Choice of batch size is important,\n",
    "choice of loss and optimizer is critical, etc.\n",
    "Some configurations won't converge.\n",
    "- LSTM loss decrease patterns during training can be quite different\n",
    "from what you see with CNNs/MLPs/etc.\n",
    "'''\n",
    "from __future__ import print_function\n",
    "\n",
    "from tensorflow.keras.preprocessing import sequence\n",
    "from tensorflow.keras.models import Sequential\n",
    "from tensorflow.keras.layers import Dense, Embedding\n",
    "from tensorflow.keras.layers import LSTM\n",
    "from tensorflow.keras.datasets import imdb\n",
    "\n",
    "max_features = 20000\n",
    "# cut texts after this number of words (among top max_features most common words)\n",
    "maxlen = 80\n",
    "batch_size = 32\n",
    "\n",
    "print('Loading data...')\n",
    "(x_train, y_train), (x_test, y_test) = imdb.load_data(num_words=max_features)\n",
    "print(len(x_train), 'train sequences')\n",
    "print(len(x_test), 'test sequences')\n",
    "\n",
    "print('Pad sequences (samples x time)')\n",
    "x_train = sequence.pad_sequences(x_train, maxlen=maxlen)\n",
    "x_test = sequence.pad_sequences(x_test, maxlen=maxlen)\n",
    "print('x_train shape:', x_train.shape)\n",
    "print('x_test shape:', x_test.shape)\n",
    "\n",
    "print('Build model...')\n",
    "model = Sequential()\n",
    "model.add(Embedding(max_features, 128))\n",
    "model.add(LSTM(128, dropout=0.2, recurrent_dropout=0.2))\n",
    "model.add(Dense(1, activation='sigmoid'))\n",
    "\n",
    "# try using different optimizers and different optimizer configs\n",
    "model.compile(loss='binary_crossentropy',\n",
    "              optimizer='adam',\n",
    "              metrics=['accuracy'])\n",
    "\n",
    "print('Train...')\n",
    "model.fit(x_train, y_train,\n",
    "          batch_size=batch_size,\n",
    "          epochs=5, # was 15\n",
    "          validation_data=(x_test, y_test))\n",
    "score, acc = model.evaluate(x_test, y_test,\n",
    "                            batch_size=batch_size)\n",
    "print('Test score:', score)\n",
    "print('Test accuracy:', acc)"
   ]
  },
  {
   "cell_type": "markdown",
   "id": "94e7a2bf",
   "metadata": {},
   "source": [
    "The following example uses the word embeddings from [GloVe](https://nlp.stanford.edu/projects/glove/). The network in the example thus starts with a pre-trained, frozen layer of word embeddings instead of learning them from scratch at the same time as training the rest of the network. The modular nature of neural networks allows the transfer of pre-trained networks between applications (not just in text analysis, but also in computer vision to recognize objects, etc.). Such layers can also be unfrozen.\n",
    "\n",
    "The model also features convolution layers. These layers split the input into multiple separate parts. By contrast to the densely connected layers, which process the entire input and learn global patterns, convolution layers learn local patterns. These can then be recognized in other locations as well and can be used by later layers to learn larger patterns. "
   ]
  },
  {
   "cell_type": "code",
   "execution_count": 102,
   "id": "54fd18c7",
   "metadata": {},
   "outputs": [
    {
     "name": "stdout",
     "output_type": "stream",
     "text": [
      "Indexing word vectors.\n",
      "Found 400000 word vectors.\n",
      "Processing text dataset\n",
      "Found 19997 texts.\n",
      "Found 174074 unique tokens.\n",
      "Shape of data tensor: (19997, 1000)\n",
      "Shape of label tensor: (19997, 20)\n",
      "Preparing embedding matrix.\n",
      "Training model.\n",
      "Train on 15998 samples, validate on 3999 samples\n",
      "Epoch 1/5\n",
      "15998/15998 [==============================] - 146s 9ms/sample - loss: 2.4426 - acc: 0.1995 - val_loss: 1.9152 - val_acc: 0.3228\n",
      "Epoch 2/5\n",
      "15998/15998 [==============================] - 141s 9ms/sample - loss: 1.5811 - acc: 0.4440 - val_loss: 1.3485 - val_acc: 0.5286\n",
      "Epoch 3/5\n",
      "15998/15998 [==============================] - 141s 9ms/sample - loss: 1.2063 - acc: 0.5819 - val_loss: 1.0896 - val_acc: 0.6329\n",
      "Epoch 4/5\n",
      "15998/15998 [==============================] - 142s 9ms/sample - loss: 0.9799 - acc: 0.6672 - val_loss: 1.0149 - val_acc: 0.6622\n",
      "Epoch 5/5\n",
      "15998/15998 [==============================] - 142s 9ms/sample - loss: 0.8247 - acc: 0.7207 - val_loss: 1.0070 - val_acc: 0.6802\n"
     ]
    },
    {
     "data": {
      "text/plain": [
       "<tensorflow.python.keras.callbacks.History at 0x23619949048>"
      ]
     },
     "execution_count": 102,
     "metadata": {},
     "output_type": "execute_result"
    }
   ],
   "source": [
    "# https://github.com/keras-team/keras/blob/master/examples/pretrained_word_embeddings.py\n",
    "\n",
    "'''This script loads pre-trained word embeddings (GloVe embeddings)\n",
    "into a frozen Keras Embedding layer, and uses it to\n",
    "train a text classification model on the 20 Newsgroup dataset\n",
    "(classification of newsgroup messages into 20 different categories).\n",
    "GloVe embedding data can be found at:\n",
    "http://nlp.stanford.edu/data/glove.6B.zip\n",
    "(source page: http://nlp.stanford.edu/projects/glove/)\n",
    "20 Newsgroup data can be found at:\n",
    "http://www.cs.cmu.edu/afs/cs.cmu.edu/project/theo-20/www/data/news20.html\n",
    "'''\n",
    "\n",
    "from __future__ import print_function\n",
    "\n",
    "import os\n",
    "import sys\n",
    "import numpy as np\n",
    "from tensorflow.keras.preprocessing.text import Tokenizer\n",
    "from tensorflow.keras.preprocessing.sequence import pad_sequences\n",
    "from tensorflow.keras.utils import to_categorical\n",
    "from tensorflow.keras.layers import Dense, Input, GlobalMaxPooling1D\n",
    "from tensorflow.keras.layers import Conv1D, MaxPooling1D, Embedding\n",
    "from tensorflow.keras.models import Model\n",
    "from tensorflow.keras.initializers import Constant\n",
    "\n",
    "\n",
    "BASE_DIR = r'C:\\Users\\johnd\\OneDrive\\Desktop\\ML lecture\\lecture7'\n",
    "GLOVE_DIR = os.path.join(BASE_DIR, 'glove.6B')\n",
    "TEXT_DATA_DIR = os.path.join(BASE_DIR, '20_newsgroup')\n",
    "MAX_SEQUENCE_LENGTH = 1000\n",
    "MAX_NUM_WORDS = 20000\n",
    "EMBEDDING_DIM = 100\n",
    "VALIDATION_SPLIT = 0.2\n",
    "\n",
    "# first, build index mapping words in the embeddings set\n",
    "# to their embedding vector\n",
    "\n",
    "print('Indexing word vectors.')\n",
    "\n",
    "embeddings_index = {}\n",
    "with open(os.path.join(GLOVE_DIR, 'glove.6B.100d.txt'), encoding=\"utf8\") as f:\n",
    "    for line in f:\n",
    "        word, coefs = line.split(maxsplit=1)\n",
    "        coefs = np.fromstring(coefs, 'f', sep=' ')\n",
    "        embeddings_index[word] = coefs\n",
    "\n",
    "print('Found %s word vectors.' % len(embeddings_index))\n",
    "\n",
    "# second, prepare text samples and their labels\n",
    "print('Processing text dataset')\n",
    "\n",
    "texts = []  # list of text samples\n",
    "labels_index = {}  # dictionary mapping label name to numeric id\n",
    "labels = []  # list of label ids\n",
    "for name in sorted(os.listdir(TEXT_DATA_DIR)):\n",
    "    path = os.path.join(TEXT_DATA_DIR, name)\n",
    "    if os.path.isdir(path):\n",
    "        label_id = len(labels_index)\n",
    "        labels_index[name] = label_id\n",
    "        for fname in sorted(os.listdir(path)):\n",
    "            if fname.isdigit():\n",
    "                fpath = os.path.join(path, fname)\n",
    "                args = {} if sys.version_info < (3,) else {'encoding': 'latin-1'}\n",
    "                with open(fpath, **args) as f:\n",
    "                    t = f.read()\n",
    "                    i = t.find('\\n\\n')  # skip header\n",
    "                    if 0 < i:\n",
    "                        t = t[i:]\n",
    "                    texts.append(t)\n",
    "                labels.append(label_id)\n",
    "\n",
    "print('Found %s texts.' % len(texts))\n",
    "\n",
    "# finally, vectorize the text samples into a 2D integer tensor\n",
    "tokenizer = Tokenizer(num_words=MAX_NUM_WORDS)\n",
    "tokenizer.fit_on_texts(texts)\n",
    "sequences = tokenizer.texts_to_sequences(texts)\n",
    "\n",
    "word_index = tokenizer.word_index\n",
    "print('Found %s unique tokens.' % len(word_index))\n",
    "\n",
    "data = pad_sequences(sequences, maxlen=MAX_SEQUENCE_LENGTH)\n",
    "\n",
    "labels = to_categorical(np.asarray(labels))\n",
    "print('Shape of data tensor:', data.shape)\n",
    "print('Shape of label tensor:', labels.shape)\n",
    "\n",
    "# split the data into a training set and a validation set\n",
    "indices = np.arange(data.shape[0])\n",
    "np.random.shuffle(indices)\n",
    "data = data[indices]\n",
    "labels = labels[indices]\n",
    "num_validation_samples = int(VALIDATION_SPLIT * data.shape[0])\n",
    "\n",
    "x_train = data[:-num_validation_samples]\n",
    "y_train = labels[:-num_validation_samples]\n",
    "x_val = data[-num_validation_samples:]\n",
    "y_val = labels[-num_validation_samples:]\n",
    "\n",
    "print('Preparing embedding matrix.')\n",
    "\n",
    "# prepare embedding matrix\n",
    "num_words = min(MAX_NUM_WORDS, len(word_index) + 1)\n",
    "embedding_matrix = np.zeros((num_words, EMBEDDING_DIM))\n",
    "for word, i in word_index.items():\n",
    "    if i >= MAX_NUM_WORDS:\n",
    "        continue\n",
    "    embedding_vector = embeddings_index.get(word)\n",
    "    if embedding_vector is not None:\n",
    "        # words not found in embedding index will be all-zeros.\n",
    "        embedding_matrix[i] = embedding_vector\n",
    "\n",
    "# load pre-trained word embeddings into an Embedding layer\n",
    "# note that we set trainable = False so as to keep the embeddings fixed\n",
    "embedding_layer = Embedding(num_words,\n",
    "                            EMBEDDING_DIM,\n",
    "                            embeddings_initializer=Constant(embedding_matrix),\n",
    "                            input_length=MAX_SEQUENCE_LENGTH,\n",
    "                            trainable=False)\n",
    "\n",
    "print('Training model.')\n",
    "\n",
    "# train a 1D convnet with global maxpooling\n",
    "sequence_input = Input(shape=(MAX_SEQUENCE_LENGTH,), dtype='int32')\n",
    "embedded_sequences = embedding_layer(sequence_input)\n",
    "x = Conv1D(128, 5, activation='relu')(embedded_sequences)\n",
    "x = MaxPooling1D(5)(x)\n",
    "x = Conv1D(128, 5, activation='relu')(x)\n",
    "x = MaxPooling1D(5)(x)\n",
    "x = Conv1D(128, 5, activation='relu')(x)\n",
    "x = GlobalMaxPooling1D()(x)\n",
    "x = Dense(128, activation='relu')(x)\n",
    "preds = Dense(len(labels_index), activation='softmax')(x)\n",
    "\n",
    "model = Model(sequence_input, preds)\n",
    "model.compile(loss='categorical_crossentropy',\n",
    "              optimizer='rmsprop',\n",
    "              metrics=['acc'])\n",
    "\n",
    "model.fit(x_train, y_train,\n",
    "          batch_size=128,\n",
    "          epochs=5, # was 10\n",
    "          validation_data=(x_val, y_val))"
   ]
  },
  {
   "cell_type": "code",
   "execution_count": 103,
   "id": "4c42166a",
   "metadata": {},
   "outputs": [
    {
     "name": "stdout",
     "output_type": "stream",
     "text": [
      "3999/3999 [==============================] - 13s 3ms/sample - loss: 1.0070 - acc: 0.6802\n",
      "Test score: 1.0069535815378938\n",
      "Test accuracy: 0.68017006\n"
     ]
    }
   ],
   "source": [
    "score, acc = model.evaluate(x_val, y_val,\n",
    "                            batch_size=128)\n",
    "print('Test score:', score)\n",
    "print('Test accuracy:', acc)"
   ]
  }
 ],
 "metadata": {
  "kernelspec": {
   "display_name": "Python 3 (ipykernel)",
   "language": "python",
   "name": "python3"
  },
  "language_info": {
   "codemirror_mode": {
    "name": "ipython",
    "version": 3
   },
   "file_extension": ".py",
   "mimetype": "text/x-python",
   "name": "python",
   "nbconvert_exporter": "python",
   "pygments_lexer": "ipython3",
   "version": "3.7.12"
  }
 },
 "nbformat": 4,
 "nbformat_minor": 5
}
